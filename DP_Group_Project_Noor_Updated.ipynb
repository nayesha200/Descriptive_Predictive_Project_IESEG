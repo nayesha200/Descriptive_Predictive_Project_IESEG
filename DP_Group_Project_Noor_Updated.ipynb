{
 "cells": [
  {
   "cell_type": "markdown",
   "id": "f01c8da3",
   "metadata": {},
   "source": [
    "# Descriptive and Predictive Analytics \n",
    "    \n",
    "Project on Advanced Analytics in Fundraising - “How knowing donors helps in growing donors”"
   ]
  },
  {
   "cell_type": "code",
   "execution_count": 366,
   "id": "0bb30c75",
   "metadata": {},
   "outputs": [],
   "source": [
    "# Installing the required Packages\n",
    "\n",
    "import sys\n",
    "import pandas               as pd\n",
    "import numpy                as np\n",
    "import seaborn              as sns\n",
    "import matplotlib.pyplot    as plt\n",
    "from pandas                 import DataFrame\n",
    "from pandas                 import read_csv\n",
    "from pandas                 import Series\n",
    "from numpy                  import array\n",
    "from numpy                  import random\n",
    "#from ieseg                  import detect_outlier\n",
    "from matplotlib             import pyplot\n",
    "import warnings\n",
    "warnings.filterwarnings(\"ignore\")"
   ]
  },
  {
   "cell_type": "code",
   "execution_count": 367,
   "id": "45b036a5",
   "metadata": {},
   "outputs": [],
   "source": [
    "# Read all source CSV files and store them in  required variables\n",
    "campaign = pd.read_csv(\"C:/Users/HP PC/Desktop/IESEG_Classes/Descriptive and predictive Analytics/Group_Project/Donnors/campaigns.csv\",sep=\";\")\n",
    "donor = pd.read_csv(\"C:/Users/HP PC/Desktop/IESEG_Classes/Descriptive and predictive Analytics/Group_Project/Donnors/donors.csv\",sep=\",\")\n",
    "gift = pd.read_csv(\"C:/Users/HP PC/Desktop/IESEG_Classes/Descriptive and predictive Analytics/Group_Project/Donnors/gifts.csv\",sep=\",\")\n",
    "train_set = pd.read_csv(\"C:/Users/HP PC/Desktop/IESEG_Classes/Descriptive and predictive Analytics/Group_Project/Donnors/selection campaign 6169.csv\",sep=\",\")\n",
    "test_set = pd.read_csv(\"C:/Users/HP PC/Desktop/IESEG_Classes/Descriptive and predictive Analytics/Group_Project/Donnors/selection campaign 7244.csv\",sep=\",\")"
   ]
  },
  {
   "cell_type": "code",
   "execution_count": 368,
   "id": "d681b185",
   "metadata": {},
   "outputs": [
    {
     "data": {
      "text/plain": [
       "campaignID     367\n",
       "date           367\n",
       "lettersSent    367\n",
       "CostUnit       367\n",
       "dtype: int64"
      ]
     },
     "execution_count": 368,
     "metadata": {},
     "output_type": "execute_result"
    }
   ],
   "source": [
    "campaign.count()"
   ]
  },
  {
   "cell_type": "code",
   "execution_count": 369,
   "id": "5b380e3d",
   "metadata": {},
   "outputs": [
    {
     "data": {
      "text/plain": [
       "Unnamed: 0     44691\n",
       "donorID        44691\n",
       "zipcode        44689\n",
       "province       44691\n",
       "region         44691\n",
       "gender         44659\n",
       "language       44691\n",
       "dateOfBirth    44691\n",
       "dtype: int64"
      ]
     },
     "execution_count": 369,
     "metadata": {},
     "output_type": "execute_result"
    }
   ],
   "source": [
    "donor.count()"
   ]
  },
  {
   "cell_type": "code",
   "execution_count": 370,
   "id": "4b15ba29",
   "metadata": {},
   "outputs": [
    {
     "data": {
      "text/plain": [
       "Unnamed: 0    216594\n",
       "donorID       216594\n",
       "campaignID    200957\n",
       "amount        216594\n",
       "date          216594\n",
       "dtype: int64"
      ]
     },
     "execution_count": 370,
     "metadata": {},
     "output_type": "execute_result"
    }
   ],
   "source": [
    "gift.count()"
   ]
  },
  {
   "cell_type": "code",
   "execution_count": null,
   "id": "171d8105",
   "metadata": {},
   "outputs": [],
   "source": []
  },
  {
   "cell_type": "markdown",
   "id": "5541a6f8",
   "metadata": {},
   "source": [
    "# Data Preprocess//Data Cleaning"
   ]
  },
  {
   "cell_type": "markdown",
   "id": "930c8a82",
   "metadata": {},
   "source": [
    "# Gifts Table"
   ]
  },
  {
   "cell_type": "code",
   "execution_count": 371,
   "id": "6e763505",
   "metadata": {},
   "outputs": [],
   "source": [
    "gift = pd.read_csv(\"C:/Users/HP PC/Desktop/IESEG_Classes/Descriptive and predictive Analytics/Group_Project/Donnors/gifts.csv\",sep=\",\")"
   ]
  },
  {
   "cell_type": "code",
   "execution_count": 372,
   "id": "e6ddc73f",
   "metadata": {},
   "outputs": [
    {
     "data": {
      "text/html": [
       "<div>\n",
       "<style scoped>\n",
       "    .dataframe tbody tr th:only-of-type {\n",
       "        vertical-align: middle;\n",
       "    }\n",
       "\n",
       "    .dataframe tbody tr th {\n",
       "        vertical-align: top;\n",
       "    }\n",
       "\n",
       "    .dataframe thead th {\n",
       "        text-align: right;\n",
       "    }\n",
       "</style>\n",
       "<table border=\"1\" class=\"dataframe\">\n",
       "  <thead>\n",
       "    <tr style=\"text-align: right;\">\n",
       "      <th></th>\n",
       "      <th>Unnamed: 0</th>\n",
       "      <th>donorID</th>\n",
       "      <th>campaignID</th>\n",
       "      <th>amount</th>\n",
       "      <th>date</th>\n",
       "    </tr>\n",
       "  </thead>\n",
       "  <tbody>\n",
       "    <tr>\n",
       "      <th>0</th>\n",
       "      <td>0</td>\n",
       "      <td>100001</td>\n",
       "      <td>NaN</td>\n",
       "      <td>12,39</td>\n",
       "      <td>2004-03-23</td>\n",
       "    </tr>\n",
       "    <tr>\n",
       "      <th>1</th>\n",
       "      <td>1</td>\n",
       "      <td>100001</td>\n",
       "      <td>1577.0</td>\n",
       "      <td>12,39</td>\n",
       "      <td>2007-10-11</td>\n",
       "    </tr>\n",
       "    <tr>\n",
       "      <th>2</th>\n",
       "      <td>2</td>\n",
       "      <td>100001</td>\n",
       "      <td>1634.0</td>\n",
       "      <td>6,69</td>\n",
       "      <td>2007-12-28</td>\n",
       "    </tr>\n",
       "    <tr>\n",
       "      <th>3</th>\n",
       "      <td>3</td>\n",
       "      <td>100001</td>\n",
       "      <td>1778.0</td>\n",
       "      <td>24,79</td>\n",
       "      <td>2008-06-14</td>\n",
       "    </tr>\n",
       "    <tr>\n",
       "      <th>4</th>\n",
       "      <td>4</td>\n",
       "      <td>100001</td>\n",
       "      <td>1808.0</td>\n",
       "      <td>7,44</td>\n",
       "      <td>2008-07-09</td>\n",
       "    </tr>\n",
       "  </tbody>\n",
       "</table>\n",
       "</div>"
      ],
      "text/plain": [
       "   Unnamed: 0  donorID  campaignID amount        date\n",
       "0           0   100001         NaN  12,39  2004-03-23\n",
       "1           1   100001      1577.0  12,39  2007-10-11\n",
       "2           2   100001      1634.0   6,69  2007-12-28\n",
       "3           3   100001      1778.0  24,79  2008-06-14\n",
       "4           4   100001      1808.0   7,44  2008-07-09"
      ]
     },
     "execution_count": 372,
     "metadata": {},
     "output_type": "execute_result"
    }
   ],
   "source": [
    "gift.head()"
   ]
  },
  {
   "cell_type": "code",
   "execution_count": 373,
   "id": "1d77d337",
   "metadata": {},
   "outputs": [
    {
     "name": "stdout",
     "output_type": "stream",
     "text": [
      "<class 'pandas.core.frame.DataFrame'>\n",
      "RangeIndex: 216594 entries, 0 to 216593\n",
      "Data columns (total 5 columns):\n",
      " #   Column      Non-Null Count   Dtype  \n",
      "---  ------      --------------   -----  \n",
      " 0   Unnamed: 0  216594 non-null  int64  \n",
      " 1   donorID     216594 non-null  int64  \n",
      " 2   campaignID  200957 non-null  float64\n",
      " 3   amount      216594 non-null  object \n",
      " 4   date        216594 non-null  object \n",
      "dtypes: float64(1), int64(2), object(2)\n",
      "memory usage: 8.3+ MB\n"
     ]
    }
   ],
   "source": [
    "gift.info()"
   ]
  },
  {
   "cell_type": "code",
   "execution_count": 374,
   "id": "0c4a5c88",
   "metadata": {},
   "outputs": [
    {
     "data": {
      "text/plain": [
       "Unnamed: 0        0\n",
       "donorID           0\n",
       "campaignID    15637\n",
       "amount            0\n",
       "date              0\n",
       "dtype: int64"
      ]
     },
     "execution_count": 374,
     "metadata": {},
     "output_type": "execute_result"
    }
   ],
   "source": [
    "#check null value columns\n",
    "gift.isna().sum()"
   ]
  },
  {
   "cell_type": "markdown",
   "id": "076d2b8f",
   "metadata": {},
   "source": [
    " We have 1 column having missing values and the rest are of wrong data type:\n",
    "\n",
    "1) Changing the type of date column to date type\n",
    "2) Changing the campaignID to int, and handling the missing values of this column\n",
    "3) Changing datatype of amount to int as we use this for mathematical calculations"
   ]
  },
  {
   "cell_type": "code",
   "execution_count": 375,
   "id": "b494be63",
   "metadata": {},
   "outputs": [],
   "source": [
    "#changing date datatype\n",
    "gift['date'] = pd.to_datetime(gift['date'])"
   ]
  },
  {
   "cell_type": "code",
   "execution_count": 376,
   "id": "d0c82e82",
   "metadata": {},
   "outputs": [],
   "source": [
    "#replace comma with dot from amount before converting it to float\n",
    "gift['amount']= gift['amount'].str.replace(',','')"
   ]
  },
  {
   "cell_type": "code",
   "execution_count": 377,
   "id": "ef4d179e",
   "metadata": {},
   "outputs": [
    {
     "data": {
      "text/html": [
       "<div>\n",
       "<style scoped>\n",
       "    .dataframe tbody tr th:only-of-type {\n",
       "        vertical-align: middle;\n",
       "    }\n",
       "\n",
       "    .dataframe tbody tr th {\n",
       "        vertical-align: top;\n",
       "    }\n",
       "\n",
       "    .dataframe thead th {\n",
       "        text-align: right;\n",
       "    }\n",
       "</style>\n",
       "<table border=\"1\" class=\"dataframe\">\n",
       "  <thead>\n",
       "    <tr style=\"text-align: right;\">\n",
       "      <th></th>\n",
       "      <th>Unnamed: 0</th>\n",
       "      <th>donorID</th>\n",
       "      <th>campaignID</th>\n",
       "      <th>amount</th>\n",
       "      <th>date</th>\n",
       "    </tr>\n",
       "  </thead>\n",
       "  <tbody>\n",
       "    <tr>\n",
       "      <th>0</th>\n",
       "      <td>0</td>\n",
       "      <td>100001</td>\n",
       "      <td>NaN</td>\n",
       "      <td>1239</td>\n",
       "      <td>2004-03-23</td>\n",
       "    </tr>\n",
       "    <tr>\n",
       "      <th>1</th>\n",
       "      <td>1</td>\n",
       "      <td>100001</td>\n",
       "      <td>1577.0</td>\n",
       "      <td>1239</td>\n",
       "      <td>2007-10-11</td>\n",
       "    </tr>\n",
       "    <tr>\n",
       "      <th>2</th>\n",
       "      <td>2</td>\n",
       "      <td>100001</td>\n",
       "      <td>1634.0</td>\n",
       "      <td>669</td>\n",
       "      <td>2007-12-28</td>\n",
       "    </tr>\n",
       "    <tr>\n",
       "      <th>3</th>\n",
       "      <td>3</td>\n",
       "      <td>100001</td>\n",
       "      <td>1778.0</td>\n",
       "      <td>2479</td>\n",
       "      <td>2008-06-14</td>\n",
       "    </tr>\n",
       "    <tr>\n",
       "      <th>4</th>\n",
       "      <td>4</td>\n",
       "      <td>100001</td>\n",
       "      <td>1808.0</td>\n",
       "      <td>744</td>\n",
       "      <td>2008-07-09</td>\n",
       "    </tr>\n",
       "  </tbody>\n",
       "</table>\n",
       "</div>"
      ],
      "text/plain": [
       "   Unnamed: 0  donorID  campaignID amount       date\n",
       "0           0   100001         NaN   1239 2004-03-23\n",
       "1           1   100001      1577.0   1239 2007-10-11\n",
       "2           2   100001      1634.0    669 2007-12-28\n",
       "3           3   100001      1778.0   2479 2008-06-14\n",
       "4           4   100001      1808.0    744 2008-07-09"
      ]
     },
     "execution_count": 377,
     "metadata": {},
     "output_type": "execute_result"
    }
   ],
   "source": [
    "gift.head()"
   ]
  },
  {
   "cell_type": "code",
   "execution_count": 378,
   "id": "5e6b55de",
   "metadata": {},
   "outputs": [],
   "source": [
    "#changing Amount datatype to float from string\n",
    "gift['amount'] = gift['amount'].astype(float)"
   ]
  },
  {
   "cell_type": "code",
   "execution_count": 381,
   "id": "ea4337ad",
   "metadata": {},
   "outputs": [
    {
     "data": {
      "text/plain": [
       "152747    1.000000e+00\n",
       "210571    2.000000e+00\n",
       "159456    2.000000e+00\n",
       "26193     3.000000e+00\n",
       "190423    3.000000e+00\n",
       "              ...     \n",
       "53730     4.833400e+16\n",
       "56484     4.833400e+16\n",
       "124568    5.453800e+16\n",
       "216264    6.448000e+16\n",
       "172552    6.578000e+16\n",
       "Name: amount, Length: 216594, dtype: float64"
      ]
     },
     "execution_count": 381,
     "metadata": {},
     "output_type": "execute_result"
    }
   ],
   "source": [
    "gift['amount'].sort_values()"
   ]
  },
  {
   "cell_type": "code",
   "execution_count": 383,
   "id": "2a57d2d6",
   "metadata": {},
   "outputs": [],
   "source": [
    "#As there are many digits after decimal point, removing all values except first 2 precession\n",
    "\n",
    "#gift['amount'] = float(\"{:.2f}\".format(gift['amount']))\n"
   ]
  },
  {
   "cell_type": "code",
   "execution_count": 384,
   "id": "a8875ca8",
   "metadata": {},
   "outputs": [],
   "source": [
    "#extract year month and date from date\n",
    "gift['gift_year'] = pd.DatetimeIndex(gift['date']).year\n",
    "gift['gift_month'] = pd.DatetimeIndex(gift['date']).month\n",
    "gift['gift_day'] = pd.DatetimeIndex(gift['date']).day"
   ]
  },
  {
   "cell_type": "code",
   "execution_count": 385,
   "id": "f7ba8b6f",
   "metadata": {},
   "outputs": [],
   "source": [
    "#Handling the .0 in the campaignID column:\n",
    "gift['campaignID'] = gift['campaignID'].astype(str)\n",
    "gift['campaignID'] = gift.campaignID.str.extract('(\\d+)')"
   ]
  },
  {
   "cell_type": "code",
   "execution_count": 386,
   "id": "1bb05a0d",
   "metadata": {},
   "outputs": [],
   "source": [
    "gift = gift.sort_values(['gift_year', 'gift_month', 'gift_day'])\n"
   ]
  },
  {
   "cell_type": "code",
   "execution_count": 387,
   "id": "c23e28fc",
   "metadata": {},
   "outputs": [
    {
     "name": "stdout",
     "output_type": "stream",
     "text": [
      "<class 'pandas.core.frame.DataFrame'>\n",
      "Int64Index: 216594 entries, 27754 to 199518\n",
      "Data columns (total 8 columns):\n",
      " #   Column      Non-Null Count   Dtype         \n",
      "---  ------      --------------   -----         \n",
      " 0   Unnamed: 0  216594 non-null  int64         \n",
      " 1   donorID     216594 non-null  int64         \n",
      " 2   campaignID  200957 non-null  object        \n",
      " 3   amount      216594 non-null  float64       \n",
      " 4   date        216594 non-null  datetime64[ns]\n",
      " 5   gift_year   216594 non-null  int64         \n",
      " 6   gift_month  216594 non-null  int64         \n",
      " 7   gift_day    216594 non-null  int64         \n",
      "dtypes: datetime64[ns](1), float64(1), int64(5), object(1)\n",
      "memory usage: 14.9+ MB\n"
     ]
    }
   ],
   "source": [
    "gift.info()"
   ]
  },
  {
   "cell_type": "code",
   "execution_count": 388,
   "id": "2627219a",
   "metadata": {},
   "outputs": [
    {
     "data": {
      "text/plain": [
       "Unnamed: 0        0\n",
       "donorID           0\n",
       "campaignID    15637\n",
       "amount            0\n",
       "date              0\n",
       "gift_year         0\n",
       "gift_month        0\n",
       "gift_day          0\n",
       "dtype: int64"
      ]
     },
     "execution_count": 388,
     "metadata": {},
     "output_type": "execute_result"
    }
   ],
   "source": [
    "gift.isna().sum()"
   ]
  },
  {
   "cell_type": "code",
   "execution_count": 389,
   "id": "ccfd1a54",
   "metadata": {},
   "outputs": [],
   "source": [
    "#Replacing all missing value of campaignID with zeroes:\n",
    "gift['campaignID'] = gift['campaignID'].fillna(0)"
   ]
  },
  {
   "cell_type": "code",
   "execution_count": 390,
   "id": "327291cd",
   "metadata": {},
   "outputs": [
    {
     "data": {
      "text/plain": [
       "0"
      ]
     },
     "execution_count": 390,
     "metadata": {},
     "output_type": "execute_result"
    }
   ],
   "source": [
    "gift['campaignID'].isna().sum()"
   ]
  },
  {
   "cell_type": "code",
   "execution_count": 391,
   "id": "690ee709",
   "metadata": {},
   "outputs": [
    {
     "data": {
      "text/plain": [
       "Unnamed: 0    216594\n",
       "donorID       216594\n",
       "campaignID    216594\n",
       "amount        216594\n",
       "date          216594\n",
       "gift_year     216594\n",
       "gift_month    216594\n",
       "gift_day      216594\n",
       "dtype: int64"
      ]
     },
     "execution_count": 391,
     "metadata": {},
     "output_type": "execute_result"
    }
   ],
   "source": [
    "gift.count()"
   ]
  },
  {
   "cell_type": "code",
   "execution_count": null,
   "id": "333cf486",
   "metadata": {},
   "outputs": [],
   "source": []
  },
  {
   "cell_type": "markdown",
   "id": "f48931d3",
   "metadata": {},
   "source": [
    "# Donors Table"
   ]
  },
  {
   "cell_type": "code",
   "execution_count": 392,
   "id": "c47694c4",
   "metadata": {},
   "outputs": [],
   "source": [
    "donor = pd.read_csv(\"C:/Users/HP PC/Desktop/IESEG_Classes/Descriptive and predictive Analytics/Group_Project/Donnors/donors.csv\",sep=\",\")"
   ]
  },
  {
   "cell_type": "code",
   "execution_count": 393,
   "id": "965c8d0f",
   "metadata": {},
   "outputs": [
    {
     "data": {
      "text/html": [
       "<div>\n",
       "<style scoped>\n",
       "    .dataframe tbody tr th:only-of-type {\n",
       "        vertical-align: middle;\n",
       "    }\n",
       "\n",
       "    .dataframe tbody tr th {\n",
       "        vertical-align: top;\n",
       "    }\n",
       "\n",
       "    .dataframe thead th {\n",
       "        text-align: right;\n",
       "    }\n",
       "</style>\n",
       "<table border=\"1\" class=\"dataframe\">\n",
       "  <thead>\n",
       "    <tr style=\"text-align: right;\">\n",
       "      <th></th>\n",
       "      <th>Unnamed: 0</th>\n",
       "      <th>donorID</th>\n",
       "      <th>zipcode</th>\n",
       "      <th>province</th>\n",
       "      <th>region</th>\n",
       "      <th>gender</th>\n",
       "      <th>language</th>\n",
       "      <th>dateOfBirth</th>\n",
       "    </tr>\n",
       "  </thead>\n",
       "  <tbody>\n",
       "    <tr>\n",
       "      <th>0</th>\n",
       "      <td>0</td>\n",
       "      <td>100001</td>\n",
       "      <td>1861.0</td>\n",
       "      <td>Flemish Brabant</td>\n",
       "      <td>Flanders</td>\n",
       "      <td>F</td>\n",
       "      <td>NL</td>\n",
       "      <td>12/24/1967</td>\n",
       "    </tr>\n",
       "    <tr>\n",
       "      <th>1</th>\n",
       "      <td>1</td>\n",
       "      <td>100002</td>\n",
       "      <td>2260.0</td>\n",
       "      <td>Antwerp</td>\n",
       "      <td>Flanders</td>\n",
       "      <td>M</td>\n",
       "      <td>NL</td>\n",
       "      <td>01/14/1952</td>\n",
       "    </tr>\n",
       "    <tr>\n",
       "      <th>2</th>\n",
       "      <td>2</td>\n",
       "      <td>100003</td>\n",
       "      <td>1780.0</td>\n",
       "      <td>Flemish Brabant</td>\n",
       "      <td>Flanders</td>\n",
       "      <td>M</td>\n",
       "      <td>NL</td>\n",
       "      <td>12/23/1986</td>\n",
       "    </tr>\n",
       "    <tr>\n",
       "      <th>3</th>\n",
       "      <td>3</td>\n",
       "      <td>100004</td>\n",
       "      <td>1020.0</td>\n",
       "      <td>Brussels</td>\n",
       "      <td>Brussels</td>\n",
       "      <td>F</td>\n",
       "      <td>FR</td>\n",
       "      <td>03/29/1952</td>\n",
       "    </tr>\n",
       "    <tr>\n",
       "      <th>4</th>\n",
       "      <td>4</td>\n",
       "      <td>100005</td>\n",
       "      <td>1020.0</td>\n",
       "      <td>Brussels</td>\n",
       "      <td>Brussels</td>\n",
       "      <td>F</td>\n",
       "      <td>FR</td>\n",
       "      <td>06/25/1986</td>\n",
       "    </tr>\n",
       "  </tbody>\n",
       "</table>\n",
       "</div>"
      ],
      "text/plain": [
       "   Unnamed: 0  donorID  zipcode         province    region gender language  \\\n",
       "0           0   100001   1861.0  Flemish Brabant  Flanders      F       NL   \n",
       "1           1   100002   2260.0          Antwerp  Flanders      M       NL   \n",
       "2           2   100003   1780.0  Flemish Brabant  Flanders      M       NL   \n",
       "3           3   100004   1020.0         Brussels  Brussels      F       FR   \n",
       "4           4   100005   1020.0         Brussels  Brussels      F       FR   \n",
       "\n",
       "  dateOfBirth  \n",
       "0  12/24/1967  \n",
       "1  01/14/1952  \n",
       "2  12/23/1986  \n",
       "3  03/29/1952  \n",
       "4  06/25/1986  "
      ]
     },
     "execution_count": 393,
     "metadata": {},
     "output_type": "execute_result"
    }
   ],
   "source": [
    "donor.head()"
   ]
  },
  {
   "cell_type": "code",
   "execution_count": 394,
   "id": "3d7b976d",
   "metadata": {},
   "outputs": [
    {
     "name": "stdout",
     "output_type": "stream",
     "text": [
      "<class 'pandas.core.frame.DataFrame'>\n",
      "RangeIndex: 44691 entries, 0 to 44690\n",
      "Data columns (total 8 columns):\n",
      " #   Column       Non-Null Count  Dtype  \n",
      "---  ------       --------------  -----  \n",
      " 0   Unnamed: 0   44691 non-null  int64  \n",
      " 1   donorID      44691 non-null  int64  \n",
      " 2   zipcode      44689 non-null  float64\n",
      " 3   province     44691 non-null  object \n",
      " 4   region       44691 non-null  object \n",
      " 5   gender       44659 non-null  object \n",
      " 6   language     44691 non-null  object \n",
      " 7   dateOfBirth  44691 non-null  object \n",
      "dtypes: float64(1), int64(2), object(5)\n",
      "memory usage: 2.7+ MB\n"
     ]
    }
   ],
   "source": [
    "#Check datatypes\n",
    "donor.info()"
   ]
  },
  {
   "cell_type": "code",
   "execution_count": 395,
   "id": "e1bf050a",
   "metadata": {},
   "outputs": [
    {
     "data": {
      "text/plain": [
       "Unnamed: 0      0\n",
       "donorID         0\n",
       "zipcode         2\n",
       "province        0\n",
       "region          0\n",
       "gender         32\n",
       "language        0\n",
       "dateOfBirth     0\n",
       "dtype: int64"
      ]
     },
     "execution_count": 395,
     "metadata": {},
     "output_type": "execute_result"
    }
   ],
   "source": [
    "#Check missing values\n",
    "donor.isna().sum()"
   ]
  },
  {
   "cell_type": "markdown",
   "id": "4327f626",
   "metadata": {},
   "source": [
    "We have 2 columns having missing values and most of them are of wrong data type:\n",
    "\n",
    "Handling the 2 missing values for zipcode and changing the type to int\n",
    "Handling the missing values for gender and using LabelEncoder to change it to a boolean type\n",
    "Changing the type of dateOfBirth to date type and computing the year from the dateOfBirth"
   ]
  },
  {
   "cell_type": "code",
   "execution_count": 396,
   "id": "e502dfa4",
   "metadata": {},
   "outputs": [
    {
     "data": {
      "text/html": [
       "<div>\n",
       "<style scoped>\n",
       "    .dataframe tbody tr th:only-of-type {\n",
       "        vertical-align: middle;\n",
       "    }\n",
       "\n",
       "    .dataframe tbody tr th {\n",
       "        vertical-align: top;\n",
       "    }\n",
       "\n",
       "    .dataframe thead th {\n",
       "        text-align: right;\n",
       "    }\n",
       "</style>\n",
       "<table border=\"1\" class=\"dataframe\">\n",
       "  <thead>\n",
       "    <tr style=\"text-align: right;\">\n",
       "      <th></th>\n",
       "      <th>Unnamed: 0</th>\n",
       "      <th>donorID</th>\n",
       "      <th>zipcode</th>\n",
       "      <th>province</th>\n",
       "      <th>region</th>\n",
       "      <th>gender</th>\n",
       "      <th>language</th>\n",
       "      <th>dateOfBirth</th>\n",
       "    </tr>\n",
       "  </thead>\n",
       "  <tbody>\n",
       "    <tr>\n",
       "      <th>5019</th>\n",
       "      <td>5019</td>\n",
       "      <td>105020</td>\n",
       "      <td>NaN</td>\n",
       "      <td>Missing</td>\n",
       "      <td>Missing</td>\n",
       "      <td>M</td>\n",
       "      <td>EN</td>\n",
       "      <td>11/09/1966</td>\n",
       "    </tr>\n",
       "    <tr>\n",
       "      <th>22100</th>\n",
       "      <td>22100</td>\n",
       "      <td>122101</td>\n",
       "      <td>NaN</td>\n",
       "      <td>Missing</td>\n",
       "      <td>Missing</td>\n",
       "      <td>F</td>\n",
       "      <td>EN</td>\n",
       "      <td>10/31/1975</td>\n",
       "    </tr>\n",
       "  </tbody>\n",
       "</table>\n",
       "</div>"
      ],
      "text/plain": [
       "       Unnamed: 0  donorID  zipcode province   region gender language  \\\n",
       "5019         5019   105020      NaN  Missing  Missing      M       EN   \n",
       "22100       22100   122101      NaN  Missing  Missing      F       EN   \n",
       "\n",
       "      dateOfBirth  \n",
       "5019   11/09/1966  \n",
       "22100  10/31/1975  "
      ]
     },
     "execution_count": 396,
     "metadata": {},
     "output_type": "execute_result"
    }
   ],
   "source": [
    "# Check rows where donor zipcode value is missing\n",
    "donor[donor['zipcode'].isna()]"
   ]
  },
  {
   "cell_type": "code",
   "execution_count": 397,
   "id": "3463b012",
   "metadata": {},
   "outputs": [
    {
     "data": {
      "text/html": [
       "<div>\n",
       "<style scoped>\n",
       "    .dataframe tbody tr th:only-of-type {\n",
       "        vertical-align: middle;\n",
       "    }\n",
       "\n",
       "    .dataframe tbody tr th {\n",
       "        vertical-align: top;\n",
       "    }\n",
       "\n",
       "    .dataframe thead th {\n",
       "        text-align: right;\n",
       "    }\n",
       "</style>\n",
       "<table border=\"1\" class=\"dataframe\">\n",
       "  <thead>\n",
       "    <tr style=\"text-align: right;\">\n",
       "      <th></th>\n",
       "      <th>Unnamed: 0</th>\n",
       "      <th>donorID</th>\n",
       "      <th>zipcode</th>\n",
       "      <th>province</th>\n",
       "      <th>region</th>\n",
       "      <th>gender</th>\n",
       "      <th>language</th>\n",
       "      <th>dateOfBirth</th>\n",
       "    </tr>\n",
       "  </thead>\n",
       "  <tbody>\n",
       "    <tr>\n",
       "      <th>15231</th>\n",
       "      <td>15231</td>\n",
       "      <td>115232</td>\n",
       "      <td>0.0</td>\n",
       "      <td>Walloon Brabant</td>\n",
       "      <td>Wallonia</td>\n",
       "      <td>M</td>\n",
       "      <td>FR</td>\n",
       "      <td>02/06/1932</td>\n",
       "    </tr>\n",
       "  </tbody>\n",
       "</table>\n",
       "</div>"
      ],
      "text/plain": [
       "       Unnamed: 0  donorID  zipcode         province    region gender  \\\n",
       "15231       15231   115232      0.0  Walloon Brabant  Wallonia      M   \n",
       "\n",
       "      language dateOfBirth  \n",
       "15231       FR  02/06/1932  "
      ]
     },
     "execution_count": 397,
     "metadata": {},
     "output_type": "execute_result"
    }
   ],
   "source": [
    "# We can't replace the zipcode with zero, as there's already a donor with a zipcode of 0\n",
    "donor[donor['zipcode']==0]"
   ]
  },
  {
   "cell_type": "code",
   "execution_count": 398,
   "id": "86fc4f3e",
   "metadata": {},
   "outputs": [
    {
     "data": {
      "text/html": [
       "<div>\n",
       "<style scoped>\n",
       "    .dataframe tbody tr th:only-of-type {\n",
       "        vertical-align: middle;\n",
       "    }\n",
       "\n",
       "    .dataframe tbody tr th {\n",
       "        vertical-align: top;\n",
       "    }\n",
       "\n",
       "    .dataframe thead th {\n",
       "        text-align: right;\n",
       "    }\n",
       "</style>\n",
       "<table border=\"1\" class=\"dataframe\">\n",
       "  <thead>\n",
       "    <tr style=\"text-align: right;\">\n",
       "      <th></th>\n",
       "      <th>Unnamed: 0</th>\n",
       "      <th>donorID</th>\n",
       "      <th>zipcode</th>\n",
       "      <th>province</th>\n",
       "      <th>region</th>\n",
       "      <th>gender</th>\n",
       "      <th>language</th>\n",
       "      <th>dateOfBirth</th>\n",
       "    </tr>\n",
       "  </thead>\n",
       "  <tbody>\n",
       "    <tr>\n",
       "      <th>533</th>\n",
       "      <td>533</td>\n",
       "      <td>100534</td>\n",
       "      <td>3080.0</td>\n",
       "      <td>Flemish Brabant</td>\n",
       "      <td>Flanders</td>\n",
       "      <td>M</td>\n",
       "      <td>EN</td>\n",
       "      <td>06/07/1982</td>\n",
       "    </tr>\n",
       "    <tr>\n",
       "      <th>5019</th>\n",
       "      <td>5019</td>\n",
       "      <td>105020</td>\n",
       "      <td>NaN</td>\n",
       "      <td>Missing</td>\n",
       "      <td>Missing</td>\n",
       "      <td>M</td>\n",
       "      <td>EN</td>\n",
       "      <td>11/09/1966</td>\n",
       "    </tr>\n",
       "    <tr>\n",
       "      <th>6634</th>\n",
       "      <td>6634</td>\n",
       "      <td>106635</td>\n",
       "      <td>3080.0</td>\n",
       "      <td>Flemish Brabant</td>\n",
       "      <td>Flanders</td>\n",
       "      <td>F</td>\n",
       "      <td>EN</td>\n",
       "      <td>01/14/1966</td>\n",
       "    </tr>\n",
       "    <tr>\n",
       "      <th>22100</th>\n",
       "      <td>22100</td>\n",
       "      <td>122101</td>\n",
       "      <td>NaN</td>\n",
       "      <td>Missing</td>\n",
       "      <td>Missing</td>\n",
       "      <td>F</td>\n",
       "      <td>EN</td>\n",
       "      <td>10/31/1975</td>\n",
       "    </tr>\n",
       "    <tr>\n",
       "      <th>26348</th>\n",
       "      <td>26348</td>\n",
       "      <td>126349</td>\n",
       "      <td>3080.0</td>\n",
       "      <td>Flemish Brabant</td>\n",
       "      <td>Flanders</td>\n",
       "      <td>M</td>\n",
       "      <td>EN</td>\n",
       "      <td>06/23/1954</td>\n",
       "    </tr>\n",
       "    <tr>\n",
       "      <th>43374</th>\n",
       "      <td>43374</td>\n",
       "      <td>143375</td>\n",
       "      <td>3090.0</td>\n",
       "      <td>Flemish Brabant</td>\n",
       "      <td>Flanders</td>\n",
       "      <td>F</td>\n",
       "      <td>EN</td>\n",
       "      <td>11/07/1962</td>\n",
       "    </tr>\n",
       "  </tbody>\n",
       "</table>\n",
       "</div>"
      ],
      "text/plain": [
       "       Unnamed: 0  donorID  zipcode         province    region gender  \\\n",
       "533           533   100534   3080.0  Flemish Brabant  Flanders      M   \n",
       "5019         5019   105020      NaN          Missing   Missing      M   \n",
       "6634         6634   106635   3080.0  Flemish Brabant  Flanders      F   \n",
       "22100       22100   122101      NaN          Missing   Missing      F   \n",
       "26348       26348   126349   3080.0  Flemish Brabant  Flanders      M   \n",
       "43374       43374   143375   3090.0  Flemish Brabant  Flanders      F   \n",
       "\n",
       "      language dateOfBirth  \n",
       "533         EN  06/07/1982  \n",
       "5019        EN  11/09/1966  \n",
       "6634        EN  01/14/1966  \n",
       "22100       EN  10/31/1975  \n",
       "26348       EN  06/23/1954  \n",
       "43374       EN  11/07/1962  "
      ]
     },
     "execution_count": 398,
     "metadata": {},
     "output_type": "execute_result"
    }
   ],
   "source": [
    "# Let's look at all donors who speak 'EN' language, given that both missing zipcode donors are EN speaking\n",
    "donor[donor['language']=='EN']"
   ]
  },
  {
   "cell_type": "code",
   "execution_count": 399,
   "id": "c9d23bd1",
   "metadata": {},
   "outputs": [],
   "source": [
    "# Checking the amounts of donations made by the Donors with missing Zipcode\n",
    "ziptest=pd.merge(gift, donor, how=\"inner\", on=\"donorID\")"
   ]
  },
  {
   "cell_type": "code",
   "execution_count": 400,
   "id": "cd86c514",
   "metadata": {},
   "outputs": [
    {
     "data": {
      "text/plain": [
       "donorID\n",
       "105020    46132.800000\n",
       "122101     1902.666667\n",
       "Name: amount, dtype: float64"
      ]
     },
     "execution_count": 400,
     "metadata": {},
     "output_type": "execute_result"
    }
   ],
   "source": [
    "ziptest[ziptest['zipcode'].isna()].groupby('donorID')['amount'].mean()"
   ]
  },
  {
   "cell_type": "markdown",
   "id": "39812ea0",
   "metadata": {},
   "source": [
    "We can confirm that the donor 105020  and 122101 are high paying donors hence dropping this row out would not justify"
   ]
  },
  {
   "cell_type": "code",
   "execution_count": 401,
   "id": "f36bb36d",
   "metadata": {},
   "outputs": [],
   "source": [
    "#Replacing the missing zipcode with 3080 as it's the most frequent value where:\n",
    "#language=EN, region=Flanders & province=Flemish Brabant\n",
    "donor['zipcode'].fillna(3080,inplace=True)"
   ]
  },
  {
   "cell_type": "code",
   "execution_count": 402,
   "id": "3b177192",
   "metadata": {},
   "outputs": [
    {
     "data": {
      "text/plain": [
       "Unnamed: 0     44691\n",
       "donorID        44691\n",
       "zipcode        44691\n",
       "province       44691\n",
       "region         44691\n",
       "gender         44659\n",
       "language       44691\n",
       "dateOfBirth    44691\n",
       "dtype: int64"
      ]
     },
     "execution_count": 402,
     "metadata": {},
     "output_type": "execute_result"
    }
   ],
   "source": [
    "donor.count()"
   ]
  },
  {
   "cell_type": "code",
   "execution_count": 403,
   "id": "36a9a78d",
   "metadata": {},
   "outputs": [],
   "source": [
    "#Converting the zipcode to string, extracting the number till the '.', and then converting to int\n",
    "donor['zipcode'] = donor['zipcode'].astype(str)\n",
    "donor['zipcode'] = donor.zipcode.str.extract('(\\d+)')\n",
    "donor['zipcode'] = donor['zipcode'].astype(int)"
   ]
  },
  {
   "cell_type": "code",
   "execution_count": 404,
   "id": "327bd914",
   "metadata": {},
   "outputs": [],
   "source": [
    "#Change the datatype of birthdate\n",
    "donor['dateOfBirth'] = pd.to_datetime(donor['dateOfBirth'])"
   ]
  },
  {
   "cell_type": "code",
   "execution_count": 405,
   "id": "225cd7d1",
   "metadata": {},
   "outputs": [
    {
     "data": {
      "text/plain": [
       "Unnamed: 0     44691\n",
       "donorID        44691\n",
       "zipcode        44691\n",
       "province       44691\n",
       "region         44691\n",
       "gender         44659\n",
       "language       44691\n",
       "dateOfBirth    44691\n",
       "dtype: int64"
      ]
     },
     "execution_count": 405,
     "metadata": {},
     "output_type": "execute_result"
    }
   ],
   "source": [
    "donor.count()"
   ]
  },
  {
   "cell_type": "code",
   "execution_count": null,
   "id": "0ce0648e",
   "metadata": {},
   "outputs": [],
   "source": []
  },
  {
   "cell_type": "markdown",
   "id": "5cc65b72",
   "metadata": {},
   "source": [
    "Dealing with the gender column\n"
   ]
  },
  {
   "cell_type": "code",
   "execution_count": 406,
   "id": "cc4a9711",
   "metadata": {},
   "outputs": [
    {
     "data": {
      "text/plain": [
       "32"
      ]
     },
     "execution_count": 406,
     "metadata": {},
     "output_type": "execute_result"
    }
   ],
   "source": [
    "donor['gender'].isna().sum()"
   ]
  },
  {
   "cell_type": "code",
   "execution_count": 407,
   "id": "f4f06dce",
   "metadata": {},
   "outputs": [
    {
     "data": {
      "text/plain": [
       "Unnamed: 0     32\n",
       "donorID        32\n",
       "zipcode        32\n",
       "province       32\n",
       "region         32\n",
       "gender          0\n",
       "language       32\n",
       "dateOfBirth    32\n",
       "dtype: int64"
      ]
     },
     "execution_count": 407,
     "metadata": {},
     "output_type": "execute_result"
    }
   ],
   "source": [
    "#Checking rows if any donor gender value is missing\n",
    "donor[donor['gender'].isna()].count()"
   ]
  },
  {
   "cell_type": "code",
   "execution_count": 408,
   "id": "c17deed7",
   "metadata": {},
   "outputs": [],
   "source": [
    "#merge donor table with gift again to understand total nulls with regards to gender\n",
    "\n",
    "gendertest=pd.merge(gift,donor,how=\"inner\", on=\"donorID\")"
   ]
  },
  {
   "cell_type": "code",
   "execution_count": 409,
   "id": "9363c898",
   "metadata": {},
   "outputs": [
    {
     "data": {
      "text/plain": [
       "Unnamed: 0_x    172\n",
       "donorID         172\n",
       "campaignID      172\n",
       "amount          172\n",
       "date            172\n",
       "gift_year       172\n",
       "gift_month      172\n",
       "gift_day        172\n",
       "Unnamed: 0_y    172\n",
       "zipcode         172\n",
       "province        172\n",
       "region          172\n",
       "gender            0\n",
       "language        172\n",
       "dateOfBirth     172\n",
       "dtype: int64"
      ]
     },
     "execution_count": 409,
     "metadata": {},
     "output_type": "execute_result"
    }
   ],
   "source": [
    "# If we drop the rows where the gender is unknown, we would loose 172 rows:\n",
    "gendertest[gendertest['gender'].isna()].count()"
   ]
  },
  {
   "cell_type": "code",
   "execution_count": 410,
   "id": "19d1b980",
   "metadata": {},
   "outputs": [
    {
     "data": {
      "text/plain": [
       "169745.0"
      ]
     },
     "execution_count": 410,
     "metadata": {},
     "output_type": "execute_result"
    }
   ],
   "source": [
    "# Total amount spent by donors whose gender is missing\n",
    "gendertest[gendertest['gender'].isna()]['amount'].sum()"
   ]
  },
  {
   "cell_type": "code",
   "execution_count": 411,
   "id": "23b92fdf",
   "metadata": {},
   "outputs": [
    {
     "data": {
      "text/plain": [
       "6.791737703286417e+17"
      ]
     },
     "execution_count": 411,
     "metadata": {},
     "output_type": "execute_result"
    }
   ],
   "source": [
    "# Total amount spent by all donors\n",
    "gendertest.groupby('donorID')['amount'].sum().sum()"
   ]
  },
  {
   "cell_type": "code",
   "execution_count": 412,
   "id": "fc7252d1",
   "metadata": {},
   "outputs": [
    {
     "data": {
      "text/plain": [
       "2.4992867424468264e-11"
      ]
     },
     "execution_count": 412,
     "metadata": {},
     "output_type": "execute_result"
    }
   ],
   "source": [
    "# Percentage of spends by donors whose gender is missing over Total amount spent by all donors\n",
    "(gendertest[gendertest['gender'].isna()]['amount'].sum()) / gendertest.groupby('donorID')['amount'].sum().sum() * 100"
   ]
  },
  {
   "cell_type": "markdown",
   "id": "67465f0c",
   "metadata": {},
   "source": [
    "instead of droping rows where gender is missing, we'll use one-hot-encoding on the gender column"
   ]
  },
  {
   "cell_type": "code",
   "execution_count": 413,
   "id": "e72df1c6",
   "metadata": {},
   "outputs": [],
   "source": [
    "donor['gender'].fillna('Missing',inplace=True)"
   ]
  },
  {
   "cell_type": "code",
   "execution_count": 414,
   "id": "21d1e3b3",
   "metadata": {},
   "outputs": [
    {
     "data": {
      "text/plain": [
       "Unnamed: 0     44691\n",
       "donorID        44691\n",
       "zipcode        44691\n",
       "province       44691\n",
       "region         44691\n",
       "gender         44691\n",
       "language       44691\n",
       "dateOfBirth    44691\n",
       "dtype: int64"
      ]
     },
     "execution_count": 414,
     "metadata": {},
     "output_type": "execute_result"
    }
   ],
   "source": [
    "donor.count()"
   ]
  },
  {
   "cell_type": "markdown",
   "id": "0b282eeb",
   "metadata": {},
   "source": [
    "One-Hot encoding the gender columns"
   ]
  },
  {
   "cell_type": "code",
   "execution_count": 415,
   "id": "298064e4",
   "metadata": {},
   "outputs": [
    {
     "data": {
      "text/html": [
       "<div>\n",
       "<style scoped>\n",
       "    .dataframe tbody tr th:only-of-type {\n",
       "        vertical-align: middle;\n",
       "    }\n",
       "\n",
       "    .dataframe tbody tr th {\n",
       "        vertical-align: top;\n",
       "    }\n",
       "\n",
       "    .dataframe thead th {\n",
       "        text-align: right;\n",
       "    }\n",
       "</style>\n",
       "<table border=\"1\" class=\"dataframe\">\n",
       "  <thead>\n",
       "    <tr style=\"text-align: right;\">\n",
       "      <th></th>\n",
       "      <th>Unnamed: 0</th>\n",
       "      <th>donorID</th>\n",
       "      <th>zipcode</th>\n",
       "      <th>province</th>\n",
       "      <th>region</th>\n",
       "      <th>language</th>\n",
       "      <th>dateOfBirth</th>\n",
       "      <th>Gender_M</th>\n",
       "      <th>Gender_F</th>\n",
       "      <th>Gender_Missing</th>\n",
       "    </tr>\n",
       "  </thead>\n",
       "  <tbody>\n",
       "    <tr>\n",
       "      <th>0</th>\n",
       "      <td>0</td>\n",
       "      <td>100001</td>\n",
       "      <td>1861</td>\n",
       "      <td>Flemish Brabant</td>\n",
       "      <td>Flanders</td>\n",
       "      <td>NL</td>\n",
       "      <td>1967-12-24</td>\n",
       "      <td>1</td>\n",
       "      <td>0</td>\n",
       "      <td>0</td>\n",
       "    </tr>\n",
       "    <tr>\n",
       "      <th>1</th>\n",
       "      <td>1</td>\n",
       "      <td>100002</td>\n",
       "      <td>2260</td>\n",
       "      <td>Antwerp</td>\n",
       "      <td>Flanders</td>\n",
       "      <td>NL</td>\n",
       "      <td>1952-01-14</td>\n",
       "      <td>0</td>\n",
       "      <td>1</td>\n",
       "      <td>0</td>\n",
       "    </tr>\n",
       "    <tr>\n",
       "      <th>2</th>\n",
       "      <td>2</td>\n",
       "      <td>100003</td>\n",
       "      <td>1780</td>\n",
       "      <td>Flemish Brabant</td>\n",
       "      <td>Flanders</td>\n",
       "      <td>NL</td>\n",
       "      <td>1986-12-23</td>\n",
       "      <td>0</td>\n",
       "      <td>1</td>\n",
       "      <td>0</td>\n",
       "    </tr>\n",
       "    <tr>\n",
       "      <th>3</th>\n",
       "      <td>3</td>\n",
       "      <td>100004</td>\n",
       "      <td>1020</td>\n",
       "      <td>Brussels</td>\n",
       "      <td>Brussels</td>\n",
       "      <td>FR</td>\n",
       "      <td>1952-03-29</td>\n",
       "      <td>1</td>\n",
       "      <td>0</td>\n",
       "      <td>0</td>\n",
       "    </tr>\n",
       "    <tr>\n",
       "      <th>4</th>\n",
       "      <td>4</td>\n",
       "      <td>100005</td>\n",
       "      <td>1020</td>\n",
       "      <td>Brussels</td>\n",
       "      <td>Brussels</td>\n",
       "      <td>FR</td>\n",
       "      <td>1986-06-25</td>\n",
       "      <td>1</td>\n",
       "      <td>0</td>\n",
       "      <td>0</td>\n",
       "    </tr>\n",
       "  </tbody>\n",
       "</table>\n",
       "</div>"
      ],
      "text/plain": [
       "   Unnamed: 0  donorID  zipcode         province    region language  \\\n",
       "0           0   100001     1861  Flemish Brabant  Flanders       NL   \n",
       "1           1   100002     2260          Antwerp  Flanders       NL   \n",
       "2           2   100003     1780  Flemish Brabant  Flanders       NL   \n",
       "3           3   100004     1020         Brussels  Brussels       FR   \n",
       "4           4   100005     1020         Brussels  Brussels       FR   \n",
       "\n",
       "  dateOfBirth  Gender_M  Gender_F  Gender_Missing  \n",
       "0  1967-12-24         1         0               0  \n",
       "1  1952-01-14         0         1               0  \n",
       "2  1986-12-23         0         1               0  \n",
       "3  1952-03-29         1         0               0  \n",
       "4  1986-06-25         1         0               0  "
      ]
     },
     "execution_count": 415,
     "metadata": {},
     "output_type": "execute_result"
    }
   ],
   "source": [
    "genders = pd.get_dummies(donor['gender'])\n",
    "genders.columns = ['Gender_M', 'Gender_F', 'Gender_Missing']\n",
    "donor = donor.join(genders)\n",
    "donor.drop('gender', axis=1, inplace=True)\n",
    "donor.head()"
   ]
  },
  {
   "cell_type": "code",
   "execution_count": 416,
   "id": "3c4f87bc",
   "metadata": {},
   "outputs": [
    {
     "data": {
      "text/plain": [
       "Unnamed: 0        44691\n",
       "donorID           44691\n",
       "zipcode           44691\n",
       "province          44691\n",
       "region            44691\n",
       "language          44691\n",
       "dateOfBirth       44691\n",
       "Gender_M          44691\n",
       "Gender_F          44691\n",
       "Gender_Missing    44691\n",
       "dtype: int64"
      ]
     },
     "execution_count": 416,
     "metadata": {},
     "output_type": "execute_result"
    }
   ],
   "source": [
    "donor.count()"
   ]
  },
  {
   "cell_type": "markdown",
   "id": "edae3353",
   "metadata": {},
   "source": [
    "One-Hot encoding the language column"
   ]
  },
  {
   "cell_type": "code",
   "execution_count": 417,
   "id": "209dc047",
   "metadata": {},
   "outputs": [
    {
     "data": {
      "text/html": [
       "<div>\n",
       "<style scoped>\n",
       "    .dataframe tbody tr th:only-of-type {\n",
       "        vertical-align: middle;\n",
       "    }\n",
       "\n",
       "    .dataframe tbody tr th {\n",
       "        vertical-align: top;\n",
       "    }\n",
       "\n",
       "    .dataframe thead th {\n",
       "        text-align: right;\n",
       "    }\n",
       "</style>\n",
       "<table border=\"1\" class=\"dataframe\">\n",
       "  <thead>\n",
       "    <tr style=\"text-align: right;\">\n",
       "      <th></th>\n",
       "      <th>Unnamed: 0</th>\n",
       "      <th>donorID</th>\n",
       "      <th>zipcode</th>\n",
       "      <th>province</th>\n",
       "      <th>region</th>\n",
       "      <th>dateOfBirth</th>\n",
       "      <th>Gender_M</th>\n",
       "      <th>Gender_F</th>\n",
       "      <th>Gender_Missing</th>\n",
       "      <th>EN</th>\n",
       "      <th>FR</th>\n",
       "      <th>NL</th>\n",
       "    </tr>\n",
       "  </thead>\n",
       "  <tbody>\n",
       "    <tr>\n",
       "      <th>0</th>\n",
       "      <td>0</td>\n",
       "      <td>100001</td>\n",
       "      <td>1861</td>\n",
       "      <td>Flemish Brabant</td>\n",
       "      <td>Flanders</td>\n",
       "      <td>1967-12-24</td>\n",
       "      <td>1</td>\n",
       "      <td>0</td>\n",
       "      <td>0</td>\n",
       "      <td>0</td>\n",
       "      <td>0</td>\n",
       "      <td>1</td>\n",
       "    </tr>\n",
       "    <tr>\n",
       "      <th>1</th>\n",
       "      <td>1</td>\n",
       "      <td>100002</td>\n",
       "      <td>2260</td>\n",
       "      <td>Antwerp</td>\n",
       "      <td>Flanders</td>\n",
       "      <td>1952-01-14</td>\n",
       "      <td>0</td>\n",
       "      <td>1</td>\n",
       "      <td>0</td>\n",
       "      <td>0</td>\n",
       "      <td>0</td>\n",
       "      <td>1</td>\n",
       "    </tr>\n",
       "    <tr>\n",
       "      <th>2</th>\n",
       "      <td>2</td>\n",
       "      <td>100003</td>\n",
       "      <td>1780</td>\n",
       "      <td>Flemish Brabant</td>\n",
       "      <td>Flanders</td>\n",
       "      <td>1986-12-23</td>\n",
       "      <td>0</td>\n",
       "      <td>1</td>\n",
       "      <td>0</td>\n",
       "      <td>0</td>\n",
       "      <td>0</td>\n",
       "      <td>1</td>\n",
       "    </tr>\n",
       "    <tr>\n",
       "      <th>3</th>\n",
       "      <td>3</td>\n",
       "      <td>100004</td>\n",
       "      <td>1020</td>\n",
       "      <td>Brussels</td>\n",
       "      <td>Brussels</td>\n",
       "      <td>1952-03-29</td>\n",
       "      <td>1</td>\n",
       "      <td>0</td>\n",
       "      <td>0</td>\n",
       "      <td>0</td>\n",
       "      <td>1</td>\n",
       "      <td>0</td>\n",
       "    </tr>\n",
       "    <tr>\n",
       "      <th>4</th>\n",
       "      <td>4</td>\n",
       "      <td>100005</td>\n",
       "      <td>1020</td>\n",
       "      <td>Brussels</td>\n",
       "      <td>Brussels</td>\n",
       "      <td>1986-06-25</td>\n",
       "      <td>1</td>\n",
       "      <td>0</td>\n",
       "      <td>0</td>\n",
       "      <td>0</td>\n",
       "      <td>1</td>\n",
       "      <td>0</td>\n",
       "    </tr>\n",
       "  </tbody>\n",
       "</table>\n",
       "</div>"
      ],
      "text/plain": [
       "   Unnamed: 0  donorID  zipcode         province    region dateOfBirth  \\\n",
       "0           0   100001     1861  Flemish Brabant  Flanders  1967-12-24   \n",
       "1           1   100002     2260          Antwerp  Flanders  1952-01-14   \n",
       "2           2   100003     1780  Flemish Brabant  Flanders  1986-12-23   \n",
       "3           3   100004     1020         Brussels  Brussels  1952-03-29   \n",
       "4           4   100005     1020         Brussels  Brussels  1986-06-25   \n",
       "\n",
       "   Gender_M  Gender_F  Gender_Missing  EN  FR  NL  \n",
       "0         1         0               0   0   0   1  \n",
       "1         0         1               0   0   0   1  \n",
       "2         0         1               0   0   0   1  \n",
       "3         1         0               0   0   1   0  \n",
       "4         1         0               0   0   1   0  "
      ]
     },
     "execution_count": 417,
     "metadata": {},
     "output_type": "execute_result"
    }
   ],
   "source": [
    "languages = pd.get_dummies(donor['language'])\n",
    "languages.columns = ['EN', 'FR', 'NL']\n",
    "donor = donor.join(languages)\n",
    "donor.drop('language', axis=1, inplace=True)\n",
    "donor.head()"
   ]
  },
  {
   "cell_type": "markdown",
   "id": "1b445a36",
   "metadata": {},
   "source": [
    "Calculating age from the dateOfBirth column"
   ]
  },
  {
   "cell_type": "code",
   "execution_count": 418,
   "id": "7b136330",
   "metadata": {},
   "outputs": [],
   "source": [
    "donor['gift_year'] = pd.DatetimeIndex(donor['dateOfBirth']).year"
   ]
  },
  {
   "cell_type": "code",
   "execution_count": 419,
   "id": "02ee0516",
   "metadata": {},
   "outputs": [],
   "source": [
    "donor['age'] = pd.to_datetime('today').year - donor['gift_year']"
   ]
  },
  {
   "cell_type": "code",
   "execution_count": 420,
   "id": "1c2e1a8e",
   "metadata": {},
   "outputs": [],
   "source": [
    "donor['age_6169'] = pd.to_datetime('2018-04-09').year - donor['gift_year']\n",
    "donor['age_7244'] = pd.to_datetime('2019-06-18').year - donor['gift_year']"
   ]
  },
  {
   "cell_type": "code",
   "execution_count": 421,
   "id": "23c4101a",
   "metadata": {},
   "outputs": [
    {
     "name": "stdout",
     "output_type": "stream",
     "text": [
      "<class 'pandas.core.frame.DataFrame'>\n",
      "RangeIndex: 44691 entries, 0 to 44690\n",
      "Data columns (total 16 columns):\n",
      " #   Column          Non-Null Count  Dtype         \n",
      "---  ------          --------------  -----         \n",
      " 0   Unnamed: 0      44691 non-null  int64         \n",
      " 1   donorID         44691 non-null  int64         \n",
      " 2   zipcode         44691 non-null  int32         \n",
      " 3   province        44691 non-null  object        \n",
      " 4   region          44691 non-null  object        \n",
      " 5   dateOfBirth     44691 non-null  datetime64[ns]\n",
      " 6   Gender_M        44691 non-null  uint8         \n",
      " 7   Gender_F        44691 non-null  uint8         \n",
      " 8   Gender_Missing  44691 non-null  uint8         \n",
      " 9   EN              44691 non-null  uint8         \n",
      " 10  FR              44691 non-null  uint8         \n",
      " 11  NL              44691 non-null  uint8         \n",
      " 12  gift_year       44691 non-null  int64         \n",
      " 13  age             44691 non-null  int64         \n",
      " 14  age_6169        44691 non-null  int64         \n",
      " 15  age_7244        44691 non-null  int64         \n",
      "dtypes: datetime64[ns](1), int32(1), int64(6), object(2), uint8(6)\n",
      "memory usage: 3.5+ MB\n"
     ]
    }
   ],
   "source": [
    "donor.info()"
   ]
  },
  {
   "cell_type": "code",
   "execution_count": 422,
   "id": "63066d03",
   "metadata": {},
   "outputs": [
    {
     "data": {
      "text/html": [
       "<div>\n",
       "<style scoped>\n",
       "    .dataframe tbody tr th:only-of-type {\n",
       "        vertical-align: middle;\n",
       "    }\n",
       "\n",
       "    .dataframe tbody tr th {\n",
       "        vertical-align: top;\n",
       "    }\n",
       "\n",
       "    .dataframe thead th {\n",
       "        text-align: right;\n",
       "    }\n",
       "</style>\n",
       "<table border=\"1\" class=\"dataframe\">\n",
       "  <thead>\n",
       "    <tr style=\"text-align: right;\">\n",
       "      <th></th>\n",
       "      <th>Unnamed: 0</th>\n",
       "      <th>donorID</th>\n",
       "      <th>zipcode</th>\n",
       "      <th>province</th>\n",
       "      <th>region</th>\n",
       "      <th>dateOfBirth</th>\n",
       "      <th>Gender_M</th>\n",
       "      <th>Gender_F</th>\n",
       "      <th>Gender_Missing</th>\n",
       "      <th>EN</th>\n",
       "      <th>FR</th>\n",
       "      <th>NL</th>\n",
       "      <th>gift_year</th>\n",
       "      <th>age</th>\n",
       "      <th>age_6169</th>\n",
       "      <th>age_7244</th>\n",
       "    </tr>\n",
       "  </thead>\n",
       "  <tbody>\n",
       "    <tr>\n",
       "      <th>27008</th>\n",
       "      <td>27008</td>\n",
       "      <td>127009</td>\n",
       "      <td>9000</td>\n",
       "      <td>East Flanders</td>\n",
       "      <td>Flanders</td>\n",
       "      <td>1889-06-14</td>\n",
       "      <td>1</td>\n",
       "      <td>0</td>\n",
       "      <td>0</td>\n",
       "      <td>0</td>\n",
       "      <td>0</td>\n",
       "      <td>1</td>\n",
       "      <td>1889</td>\n",
       "      <td>132</td>\n",
       "      <td>129</td>\n",
       "      <td>130</td>\n",
       "    </tr>\n",
       "    <tr>\n",
       "      <th>27453</th>\n",
       "      <td>27453</td>\n",
       "      <td>127454</td>\n",
       "      <td>8820</td>\n",
       "      <td>West Flanders</td>\n",
       "      <td>Flanders</td>\n",
       "      <td>1892-08-06</td>\n",
       "      <td>1</td>\n",
       "      <td>0</td>\n",
       "      <td>0</td>\n",
       "      <td>0</td>\n",
       "      <td>0</td>\n",
       "      <td>1</td>\n",
       "      <td>1892</td>\n",
       "      <td>129</td>\n",
       "      <td>126</td>\n",
       "      <td>127</td>\n",
       "    </tr>\n",
       "  </tbody>\n",
       "</table>\n",
       "</div>"
      ],
      "text/plain": [
       "       Unnamed: 0  donorID  zipcode       province    region dateOfBirth  \\\n",
       "27008       27008   127009     9000  East Flanders  Flanders  1889-06-14   \n",
       "27453       27453   127454     8820  West Flanders  Flanders  1892-08-06   \n",
       "\n",
       "       Gender_M  Gender_F  Gender_Missing  EN  FR  NL  gift_year  age  \\\n",
       "27008         1         0               0   0   0   1       1889  132   \n",
       "27453         1         0               0   0   0   1       1892  129   \n",
       "\n",
       "       age_6169  age_7244  \n",
       "27008       129       130  \n",
       "27453       126       127  "
      ]
     },
     "execution_count": 422,
     "metadata": {},
     "output_type": "execute_result"
    }
   ],
   "source": [
    "donor[(donor['age'] > 120)]"
   ]
  },
  {
   "cell_type": "markdown",
   "id": "71584983",
   "metadata": {},
   "source": [
    "Dealing with province and region coloumn"
   ]
  },
  {
   "cell_type": "code",
   "execution_count": 423,
   "id": "9b9e15a9",
   "metadata": {},
   "outputs": [
    {
     "data": {
      "text/plain": [
       "array(['Flemish Brabant', 'Antwerp', 'Brussels', 'Walloon Brabant',\n",
       "       'West Flanders', 'East Flanders', 'Liege', 'Luxembourg', 'Namur',\n",
       "       'Hainaut', 'Limburg', 'ANTWERP', 'Missing'], dtype=object)"
      ]
     },
     "execution_count": 423,
     "metadata": {},
     "output_type": "execute_result"
    }
   ],
   "source": [
    "donor['province'].unique()"
   ]
  },
  {
   "cell_type": "code",
   "execution_count": 424,
   "id": "6ca745a2",
   "metadata": {},
   "outputs": [
    {
     "data": {
      "text/plain": [
       "array(['Flanders', 'Brussels', 'Wallonia', 'Missing'], dtype=object)"
      ]
     },
     "execution_count": 424,
     "metadata": {},
     "output_type": "execute_result"
    }
   ],
   "source": [
    "donor['region'].unique()"
   ]
  },
  {
   "cell_type": "code",
   "execution_count": null,
   "id": "6c63ace8",
   "metadata": {},
   "outputs": [],
   "source": []
  },
  {
   "cell_type": "markdown",
   "id": "c86fbb75",
   "metadata": {},
   "source": [
    "One-Hot encoding the province columns"
   ]
  },
  {
   "cell_type": "code",
   "execution_count": 425,
   "id": "48079ff0",
   "metadata": {},
   "outputs": [
    {
     "data": {
      "text/html": [
       "<div>\n",
       "<style scoped>\n",
       "    .dataframe tbody tr th:only-of-type {\n",
       "        vertical-align: middle;\n",
       "    }\n",
       "\n",
       "    .dataframe tbody tr th {\n",
       "        vertical-align: top;\n",
       "    }\n",
       "\n",
       "    .dataframe thead th {\n",
       "        text-align: right;\n",
       "    }\n",
       "</style>\n",
       "<table border=\"1\" class=\"dataframe\">\n",
       "  <thead>\n",
       "    <tr style=\"text-align: right;\">\n",
       "      <th></th>\n",
       "      <th>Unnamed: 0</th>\n",
       "      <th>donorID</th>\n",
       "      <th>zipcode</th>\n",
       "      <th>region</th>\n",
       "      <th>dateOfBirth</th>\n",
       "      <th>Gender_M</th>\n",
       "      <th>Gender_F</th>\n",
       "      <th>Gender_Missing</th>\n",
       "      <th>EN</th>\n",
       "      <th>FR</th>\n",
       "      <th>...</th>\n",
       "      <th>Walloon Brabant</th>\n",
       "      <th>West Flanders</th>\n",
       "      <th>East Flanders</th>\n",
       "      <th>Liege</th>\n",
       "      <th>Luxembourg</th>\n",
       "      <th>Namur</th>\n",
       "      <th>Hainaut</th>\n",
       "      <th>Limburg</th>\n",
       "      <th>ANTWERP</th>\n",
       "      <th>Missing</th>\n",
       "    </tr>\n",
       "  </thead>\n",
       "  <tbody>\n",
       "    <tr>\n",
       "      <th>0</th>\n",
       "      <td>0</td>\n",
       "      <td>100001</td>\n",
       "      <td>1861</td>\n",
       "      <td>Flanders</td>\n",
       "      <td>1967-12-24</td>\n",
       "      <td>1</td>\n",
       "      <td>0</td>\n",
       "      <td>0</td>\n",
       "      <td>0</td>\n",
       "      <td>0</td>\n",
       "      <td>...</td>\n",
       "      <td>0</td>\n",
       "      <td>1</td>\n",
       "      <td>0</td>\n",
       "      <td>0</td>\n",
       "      <td>0</td>\n",
       "      <td>0</td>\n",
       "      <td>0</td>\n",
       "      <td>0</td>\n",
       "      <td>0</td>\n",
       "      <td>0</td>\n",
       "    </tr>\n",
       "    <tr>\n",
       "      <th>1</th>\n",
       "      <td>1</td>\n",
       "      <td>100002</td>\n",
       "      <td>2260</td>\n",
       "      <td>Flanders</td>\n",
       "      <td>1952-01-14</td>\n",
       "      <td>0</td>\n",
       "      <td>1</td>\n",
       "      <td>0</td>\n",
       "      <td>0</td>\n",
       "      <td>0</td>\n",
       "      <td>...</td>\n",
       "      <td>0</td>\n",
       "      <td>0</td>\n",
       "      <td>0</td>\n",
       "      <td>0</td>\n",
       "      <td>0</td>\n",
       "      <td>0</td>\n",
       "      <td>0</td>\n",
       "      <td>0</td>\n",
       "      <td>0</td>\n",
       "      <td>0</td>\n",
       "    </tr>\n",
       "    <tr>\n",
       "      <th>2</th>\n",
       "      <td>2</td>\n",
       "      <td>100003</td>\n",
       "      <td>1780</td>\n",
       "      <td>Flanders</td>\n",
       "      <td>1986-12-23</td>\n",
       "      <td>0</td>\n",
       "      <td>1</td>\n",
       "      <td>0</td>\n",
       "      <td>0</td>\n",
       "      <td>0</td>\n",
       "      <td>...</td>\n",
       "      <td>0</td>\n",
       "      <td>1</td>\n",
       "      <td>0</td>\n",
       "      <td>0</td>\n",
       "      <td>0</td>\n",
       "      <td>0</td>\n",
       "      <td>0</td>\n",
       "      <td>0</td>\n",
       "      <td>0</td>\n",
       "      <td>0</td>\n",
       "    </tr>\n",
       "    <tr>\n",
       "      <th>3</th>\n",
       "      <td>3</td>\n",
       "      <td>100004</td>\n",
       "      <td>1020</td>\n",
       "      <td>Brussels</td>\n",
       "      <td>1952-03-29</td>\n",
       "      <td>1</td>\n",
       "      <td>0</td>\n",
       "      <td>0</td>\n",
       "      <td>0</td>\n",
       "      <td>1</td>\n",
       "      <td>...</td>\n",
       "      <td>0</td>\n",
       "      <td>0</td>\n",
       "      <td>0</td>\n",
       "      <td>0</td>\n",
       "      <td>0</td>\n",
       "      <td>0</td>\n",
       "      <td>0</td>\n",
       "      <td>0</td>\n",
       "      <td>0</td>\n",
       "      <td>0</td>\n",
       "    </tr>\n",
       "    <tr>\n",
       "      <th>4</th>\n",
       "      <td>4</td>\n",
       "      <td>100005</td>\n",
       "      <td>1020</td>\n",
       "      <td>Brussels</td>\n",
       "      <td>1986-06-25</td>\n",
       "      <td>1</td>\n",
       "      <td>0</td>\n",
       "      <td>0</td>\n",
       "      <td>0</td>\n",
       "      <td>1</td>\n",
       "      <td>...</td>\n",
       "      <td>0</td>\n",
       "      <td>0</td>\n",
       "      <td>0</td>\n",
       "      <td>0</td>\n",
       "      <td>0</td>\n",
       "      <td>0</td>\n",
       "      <td>0</td>\n",
       "      <td>0</td>\n",
       "      <td>0</td>\n",
       "      <td>0</td>\n",
       "    </tr>\n",
       "  </tbody>\n",
       "</table>\n",
       "<p>5 rows × 28 columns</p>\n",
       "</div>"
      ],
      "text/plain": [
       "   Unnamed: 0  donorID  zipcode    region dateOfBirth  Gender_M  Gender_F  \\\n",
       "0           0   100001     1861  Flanders  1967-12-24         1         0   \n",
       "1           1   100002     2260  Flanders  1952-01-14         0         1   \n",
       "2           2   100003     1780  Flanders  1986-12-23         0         1   \n",
       "3           3   100004     1020  Brussels  1952-03-29         1         0   \n",
       "4           4   100005     1020  Brussels  1986-06-25         1         0   \n",
       "\n",
       "   Gender_Missing  EN  FR  ...  Walloon Brabant  West Flanders  East Flanders  \\\n",
       "0               0   0   0  ...                0              1              0   \n",
       "1               0   0   0  ...                0              0              0   \n",
       "2               0   0   0  ...                0              1              0   \n",
       "3               0   0   1  ...                0              0              0   \n",
       "4               0   0   1  ...                0              0              0   \n",
       "\n",
       "   Liege  Luxembourg  Namur  Hainaut  Limburg  ANTWERP  Missing  \n",
       "0      0           0      0        0        0        0        0  \n",
       "1      0           0      0        0        0        0        0  \n",
       "2      0           0      0        0        0        0        0  \n",
       "3      0           0      0        0        0        0        0  \n",
       "4      0           0      0        0        0        0        0  \n",
       "\n",
       "[5 rows x 28 columns]"
      ]
     },
     "execution_count": 425,
     "metadata": {},
     "output_type": "execute_result"
    }
   ],
   "source": [
    "provinces = pd.get_dummies(donor['province'])\n",
    "provinces.columns = ['Flemish Brabant', 'Antwerp', 'Brussels', 'Walloon Brabant',\n",
    "       'West Flanders', 'East Flanders', 'Liege', 'Luxembourg', 'Namur',\n",
    "       'Hainaut', 'Limburg', 'ANTWERP', 'Missing']\n",
    "donor = donor.join(provinces)\n",
    "donor.drop('province', axis=1, inplace=True)\n",
    "donor.head()"
   ]
  },
  {
   "cell_type": "markdown",
   "id": "a006ebfd",
   "metadata": {},
   "source": [
    "Exploring New Features for Donors in gift to get better Insights on their gifting ability"
   ]
  },
  {
   "cell_type": "code",
   "execution_count": 426,
   "id": "185831ee",
   "metadata": {},
   "outputs": [],
   "source": [
    "gift_grouped=gift[[\"donorID\",\"amount\",\"date\"]]"
   ]
  },
  {
   "cell_type": "code",
   "execution_count": 427,
   "id": "317e3e52",
   "metadata": {},
   "outputs": [],
   "source": [
    "#Creating Count of Donation by Donor\n",
    "count_gift=gift[[\"donorID\",\"date\"]].groupby(by=\"donorID\").count()\n",
    "count_gift.rename(columns={'date':\"NumberOfDonation\"},inplace=True )\n",
    "gift_grouped= pd.merge(gift_grouped,count_gift,how=\"left\",on=\"donorID\")"
   ]
  },
  {
   "cell_type": "code",
   "execution_count": 428,
   "id": "4f30f5a9",
   "metadata": {},
   "outputs": [],
   "source": [
    "#Creating Count of Donation by Donor and by Year \n",
    "count_by_month=gift[[\"donorID\",\"date\"]]"
   ]
  },
  {
   "cell_type": "code",
   "execution_count": 429,
   "id": "faa9e9ee",
   "metadata": {},
   "outputs": [],
   "source": [
    "#Creating year variable \n",
    "count_by_month['year']=count_by_month['date'].dt.year "
   ]
  },
  {
   "cell_type": "code",
   "execution_count": 430,
   "id": "a59b96e0",
   "metadata": {},
   "outputs": [],
   "source": [
    "#Counting number of diferent month by donor\n",
    "count_of_year=count_by_month.groupby([\"donorID\", 'year']).count().groupby('donorID').count()\n",
    "count_of_year.rename(columns={'date':\"Number_Of_Year\"},inplace=True )\n",
    "gift_grouped= pd.merge(gift_grouped,count_of_year,how=\"left\",on=\"donorID\")"
   ]
  },
  {
   "cell_type": "code",
   "execution_count": 431,
   "id": "f30d1110",
   "metadata": {},
   "outputs": [
    {
     "data": {
      "text/html": [
       "<div>\n",
       "<style scoped>\n",
       "    .dataframe tbody tr th:only-of-type {\n",
       "        vertical-align: middle;\n",
       "    }\n",
       "\n",
       "    .dataframe tbody tr th {\n",
       "        vertical-align: top;\n",
       "    }\n",
       "\n",
       "    .dataframe thead th {\n",
       "        text-align: right;\n",
       "    }\n",
       "</style>\n",
       "<table border=\"1\" class=\"dataframe\">\n",
       "  <thead>\n",
       "    <tr style=\"text-align: right;\">\n",
       "      <th></th>\n",
       "      <th>donorID</th>\n",
       "      <th>amount</th>\n",
       "      <th>date</th>\n",
       "      <th>NumberOfDonation</th>\n",
       "      <th>Donation_Per_Year</th>\n",
       "    </tr>\n",
       "  </thead>\n",
       "  <tbody>\n",
       "    <tr>\n",
       "      <th>0</th>\n",
       "      <td>103039</td>\n",
       "      <td>2479.0</td>\n",
       "      <td>2000-06-05</td>\n",
       "      <td>2</td>\n",
       "      <td>1.000000</td>\n",
       "    </tr>\n",
       "    <tr>\n",
       "      <th>1</th>\n",
       "      <td>106414</td>\n",
       "      <td>2479.0</td>\n",
       "      <td>2000-06-05</td>\n",
       "      <td>14</td>\n",
       "      <td>1.555556</td>\n",
       "    </tr>\n",
       "    <tr>\n",
       "      <th>2</th>\n",
       "      <td>102754</td>\n",
       "      <td>4958.0</td>\n",
       "      <td>2000-06-06</td>\n",
       "      <td>33</td>\n",
       "      <td>2.357143</td>\n",
       "    </tr>\n",
       "    <tr>\n",
       "      <th>3</th>\n",
       "      <td>103525</td>\n",
       "      <td>2479.0</td>\n",
       "      <td>2000-06-06</td>\n",
       "      <td>11</td>\n",
       "      <td>2.200000</td>\n",
       "    </tr>\n",
       "    <tr>\n",
       "      <th>4</th>\n",
       "      <td>102674</td>\n",
       "      <td>1239.0</td>\n",
       "      <td>2000-06-10</td>\n",
       "      <td>15</td>\n",
       "      <td>2.500000</td>\n",
       "    </tr>\n",
       "    <tr>\n",
       "      <th>...</th>\n",
       "      <td>...</td>\n",
       "      <td>...</td>\n",
       "      <td>...</td>\n",
       "      <td>...</td>\n",
       "      <td>...</td>\n",
       "    </tr>\n",
       "    <tr>\n",
       "      <th>216589</th>\n",
       "      <td>104794</td>\n",
       "      <td>600.0</td>\n",
       "      <td>2020-01-04</td>\n",
       "      <td>5</td>\n",
       "      <td>1.000000</td>\n",
       "    </tr>\n",
       "    <tr>\n",
       "      <th>216590</th>\n",
       "      <td>110294</td>\n",
       "      <td>750.0</td>\n",
       "      <td>2020-01-04</td>\n",
       "      <td>27</td>\n",
       "      <td>2.250000</td>\n",
       "    </tr>\n",
       "    <tr>\n",
       "      <th>216591</th>\n",
       "      <td>120129</td>\n",
       "      <td>400.0</td>\n",
       "      <td>2020-01-04</td>\n",
       "      <td>5</td>\n",
       "      <td>1.250000</td>\n",
       "    </tr>\n",
       "    <tr>\n",
       "      <th>216592</th>\n",
       "      <td>126520</td>\n",
       "      <td>500.0</td>\n",
       "      <td>2020-01-04</td>\n",
       "      <td>28</td>\n",
       "      <td>2.545455</td>\n",
       "    </tr>\n",
       "    <tr>\n",
       "      <th>216593</th>\n",
       "      <td>136167</td>\n",
       "      <td>500.0</td>\n",
       "      <td>2020-01-04</td>\n",
       "      <td>4</td>\n",
       "      <td>1.333333</td>\n",
       "    </tr>\n",
       "  </tbody>\n",
       "</table>\n",
       "<p>216594 rows × 5 columns</p>\n",
       "</div>"
      ],
      "text/plain": [
       "        donorID  amount       date  NumberOfDonation  Donation_Per_Year\n",
       "0        103039  2479.0 2000-06-05                 2           1.000000\n",
       "1        106414  2479.0 2000-06-05                14           1.555556\n",
       "2        102754  4958.0 2000-06-06                33           2.357143\n",
       "3        103525  2479.0 2000-06-06                11           2.200000\n",
       "4        102674  1239.0 2000-06-10                15           2.500000\n",
       "...         ...     ...        ...               ...                ...\n",
       "216589   104794   600.0 2020-01-04                 5           1.000000\n",
       "216590   110294   750.0 2020-01-04                27           2.250000\n",
       "216591   120129   400.0 2020-01-04                 5           1.250000\n",
       "216592   126520   500.0 2020-01-04                28           2.545455\n",
       "216593   136167   500.0 2020-01-04                 4           1.333333\n",
       "\n",
       "[216594 rows x 5 columns]"
      ]
     },
     "execution_count": 431,
     "metadata": {},
     "output_type": "execute_result"
    }
   ],
   "source": [
    "#Dividing number of donation by number of month\n",
    "gift_grouped[\"Donation_Per_Year\"]=gift_grouped['NumberOfDonation']/gift_grouped['Number_Of_Year'] \n",
    "gift_grouped.drop('Number_Of_Year',axis=1)"
   ]
  },
  {
   "cell_type": "code",
   "execution_count": 432,
   "id": "70e3ec95",
   "metadata": {},
   "outputs": [
    {
     "data": {
      "text/html": [
       "<div>\n",
       "<style scoped>\n",
       "    .dataframe tbody tr th:only-of-type {\n",
       "        vertical-align: middle;\n",
       "    }\n",
       "\n",
       "    .dataframe tbody tr th {\n",
       "        vertical-align: top;\n",
       "    }\n",
       "\n",
       "    .dataframe thead th {\n",
       "        text-align: right;\n",
       "    }\n",
       "</style>\n",
       "<table border=\"1\" class=\"dataframe\">\n",
       "  <thead>\n",
       "    <tr style=\"text-align: right;\">\n",
       "      <th></th>\n",
       "      <th>Unnamed: 0</th>\n",
       "      <th>donorID</th>\n",
       "      <th>campaignID</th>\n",
       "      <th>amount</th>\n",
       "      <th>date</th>\n",
       "      <th>gift_year</th>\n",
       "      <th>gift_month</th>\n",
       "      <th>gift_day</th>\n",
       "      <th>Number_Of_Donation</th>\n",
       "      <th>Donation_Per_Year</th>\n",
       "    </tr>\n",
       "  </thead>\n",
       "  <tbody>\n",
       "    <tr>\n",
       "      <th>27754</th>\n",
       "      <td>27754</td>\n",
       "      <td>103039</td>\n",
       "      <td>0</td>\n",
       "      <td>2479.0</td>\n",
       "      <td>2000-06-05</td>\n",
       "      <td>2000</td>\n",
       "      <td>6</td>\n",
       "      <td>5</td>\n",
       "      <td>54</td>\n",
       "      <td>9.000000</td>\n",
       "    </tr>\n",
       "    <tr>\n",
       "      <th>56616</th>\n",
       "      <td>56616</td>\n",
       "      <td>106414</td>\n",
       "      <td>0</td>\n",
       "      <td>2479.0</td>\n",
       "      <td>2000-06-05</td>\n",
       "      <td>2000</td>\n",
       "      <td>6</td>\n",
       "      <td>5</td>\n",
       "      <td>92</td>\n",
       "      <td>92.000000</td>\n",
       "    </tr>\n",
       "    <tr>\n",
       "      <th>24168</th>\n",
       "      <td>24168</td>\n",
       "      <td>102754</td>\n",
       "      <td>0</td>\n",
       "      <td>4958.0</td>\n",
       "      <td>2000-06-06</td>\n",
       "      <td>2000</td>\n",
       "      <td>6</td>\n",
       "      <td>6</td>\n",
       "      <td>23</td>\n",
       "      <td>2.875000</td>\n",
       "    </tr>\n",
       "    <tr>\n",
       "      <th>32735</th>\n",
       "      <td>32735</td>\n",
       "      <td>103525</td>\n",
       "      <td>0</td>\n",
       "      <td>2479.0</td>\n",
       "      <td>2000-06-06</td>\n",
       "      <td>2000</td>\n",
       "      <td>6</td>\n",
       "      <td>6</td>\n",
       "      <td>238</td>\n",
       "      <td>47.600000</td>\n",
       "    </tr>\n",
       "    <tr>\n",
       "      <th>23099</th>\n",
       "      <td>23099</td>\n",
       "      <td>102674</td>\n",
       "      <td>0</td>\n",
       "      <td>1239.0</td>\n",
       "      <td>2000-06-10</td>\n",
       "      <td>2000</td>\n",
       "      <td>6</td>\n",
       "      <td>10</td>\n",
       "      <td>50</td>\n",
       "      <td>5.555556</td>\n",
       "    </tr>\n",
       "    <tr>\n",
       "      <th>...</th>\n",
       "      <td>...</td>\n",
       "      <td>...</td>\n",
       "      <td>...</td>\n",
       "      <td>...</td>\n",
       "      <td>...</td>\n",
       "      <td>...</td>\n",
       "      <td>...</td>\n",
       "      <td>...</td>\n",
       "      <td>...</td>\n",
       "      <td>...</td>\n",
       "    </tr>\n",
       "    <tr>\n",
       "      <th>43707</th>\n",
       "      <td>43707</td>\n",
       "      <td>104794</td>\n",
       "      <td>7536</td>\n",
       "      <td>600.0</td>\n",
       "      <td>2020-01-04</td>\n",
       "      <td>2020</td>\n",
       "      <td>1</td>\n",
       "      <td>4</td>\n",
       "      <td>23</td>\n",
       "      <td>4.600000</td>\n",
       "    </tr>\n",
       "    <tr>\n",
       "      <th>84816</th>\n",
       "      <td>84816</td>\n",
       "      <td>110294</td>\n",
       "      <td>7536</td>\n",
       "      <td>750.0</td>\n",
       "      <td>2020-01-04</td>\n",
       "      <td>2020</td>\n",
       "      <td>1</td>\n",
       "      <td>4</td>\n",
       "      <td>4</td>\n",
       "      <td>1.333333</td>\n",
       "    </tr>\n",
       "    <tr>\n",
       "      <th>138107</th>\n",
       "      <td>138107</td>\n",
       "      <td>120129</td>\n",
       "      <td>7536</td>\n",
       "      <td>400.0</td>\n",
       "      <td>2020-01-04</td>\n",
       "      <td>2020</td>\n",
       "      <td>1</td>\n",
       "      <td>4</td>\n",
       "      <td>10</td>\n",
       "      <td>1.666667</td>\n",
       "    </tr>\n",
       "    <tr>\n",
       "      <th>166913</th>\n",
       "      <td>166913</td>\n",
       "      <td>126520</td>\n",
       "      <td>7536</td>\n",
       "      <td>500.0</td>\n",
       "      <td>2020-01-04</td>\n",
       "      <td>2020</td>\n",
       "      <td>1</td>\n",
       "      <td>4</td>\n",
       "      <td>13</td>\n",
       "      <td>1.625000</td>\n",
       "    </tr>\n",
       "    <tr>\n",
       "      <th>199518</th>\n",
       "      <td>199518</td>\n",
       "      <td>136167</td>\n",
       "      <td>7536</td>\n",
       "      <td>500.0</td>\n",
       "      <td>2020-01-04</td>\n",
       "      <td>2020</td>\n",
       "      <td>1</td>\n",
       "      <td>4</td>\n",
       "      <td>3</td>\n",
       "      <td>1.500000</td>\n",
       "    </tr>\n",
       "  </tbody>\n",
       "</table>\n",
       "<p>216594 rows × 10 columns</p>\n",
       "</div>"
      ],
      "text/plain": [
       "        Unnamed: 0  donorID campaignID  amount       date  gift_year  \\\n",
       "27754        27754   103039          0  2479.0 2000-06-05       2000   \n",
       "56616        56616   106414          0  2479.0 2000-06-05       2000   \n",
       "24168        24168   102754          0  4958.0 2000-06-06       2000   \n",
       "32735        32735   103525          0  2479.0 2000-06-06       2000   \n",
       "23099        23099   102674          0  1239.0 2000-06-10       2000   \n",
       "...            ...      ...        ...     ...        ...        ...   \n",
       "43707        43707   104794       7536   600.0 2020-01-04       2020   \n",
       "84816        84816   110294       7536   750.0 2020-01-04       2020   \n",
       "138107      138107   120129       7536   400.0 2020-01-04       2020   \n",
       "166913      166913   126520       7536   500.0 2020-01-04       2020   \n",
       "199518      199518   136167       7536   500.0 2020-01-04       2020   \n",
       "\n",
       "        gift_month  gift_day  Number_Of_Donation  Donation_Per_Year  \n",
       "27754            6         5                  54           9.000000  \n",
       "56616            6         5                  92          92.000000  \n",
       "24168            6         6                  23           2.875000  \n",
       "32735            6         6                 238          47.600000  \n",
       "23099            6        10                  50           5.555556  \n",
       "...            ...       ...                 ...                ...  \n",
       "43707            1         4                  23           4.600000  \n",
       "84816            1         4                   4           1.333333  \n",
       "138107           1         4                  10           1.666667  \n",
       "166913           1         4                  13           1.625000  \n",
       "199518           1         4                   3           1.500000  \n",
       "\n",
       "[216594 rows x 10 columns]"
      ]
     },
     "execution_count": 432,
     "metadata": {},
     "output_type": "execute_result"
    }
   ],
   "source": [
    "#Assigning variable to gift\n",
    "gift[['Number_Of_Donation','Donation_Per_Year']]= gift_grouped[['NumberOfDonation','Donation_Per_Year']] \n",
    "gift"
   ]
  },
  {
   "cell_type": "markdown",
   "id": "d443a0d9",
   "metadata": {},
   "source": [
    "# Merge donor and  train set table and Test Set(6169)"
   ]
  },
  {
   "cell_type": "code",
   "execution_count": 433,
   "id": "31a33eab",
   "metadata": {},
   "outputs": [],
   "source": [
    "#Merge donor and  train set table(6169)\n",
    "donor_trainset = pd.merge(donor,train_set, how='inner', on='donorID')"
   ]
  },
  {
   "cell_type": "code",
   "execution_count": 434,
   "id": "f124f9a5",
   "metadata": {},
   "outputs": [],
   "source": [
    "donor_testset = pd.merge(donor,test_set, how='inner', on='donorID')"
   ]
  },
  {
   "cell_type": "markdown",
   "id": "13f65b73",
   "metadata": {},
   "source": [
    "# Campaign Table"
   ]
  },
  {
   "cell_type": "code",
   "execution_count": 435,
   "id": "b67235c9",
   "metadata": {},
   "outputs": [
    {
     "data": {
      "text/html": [
       "<div>\n",
       "<style scoped>\n",
       "    .dataframe tbody tr th:only-of-type {\n",
       "        vertical-align: middle;\n",
       "    }\n",
       "\n",
       "    .dataframe tbody tr th {\n",
       "        vertical-align: top;\n",
       "    }\n",
       "\n",
       "    .dataframe thead th {\n",
       "        text-align: right;\n",
       "    }\n",
       "</style>\n",
       "<table border=\"1\" class=\"dataframe\">\n",
       "  <thead>\n",
       "    <tr style=\"text-align: right;\">\n",
       "      <th></th>\n",
       "      <th>campaignID</th>\n",
       "      <th>date</th>\n",
       "      <th>lettersSent</th>\n",
       "      <th>CostUnit</th>\n",
       "    </tr>\n",
       "  </thead>\n",
       "  <tbody>\n",
       "    <tr>\n",
       "      <th>0</th>\n",
       "      <td>153</td>\n",
       "      <td>13/12/2004</td>\n",
       "      <td>6 873</td>\n",
       "      <td>0,17 €</td>\n",
       "    </tr>\n",
       "    <tr>\n",
       "      <th>1</th>\n",
       "      <td>154</td>\n",
       "      <td>01/01/2005</td>\n",
       "      <td>7 656</td>\n",
       "      <td>0,30 €</td>\n",
       "    </tr>\n",
       "    <tr>\n",
       "      <th>2</th>\n",
       "      <td>180</td>\n",
       "      <td>18/01/2005</td>\n",
       "      <td>9 933</td>\n",
       "      <td>0,20 €</td>\n",
       "    </tr>\n",
       "    <tr>\n",
       "      <th>3</th>\n",
       "      <td>433</td>\n",
       "      <td>29/01/2005</td>\n",
       "      <td>7 448</td>\n",
       "      <td>0,59 €</td>\n",
       "    </tr>\n",
       "    <tr>\n",
       "      <th>4</th>\n",
       "      <td>476</td>\n",
       "      <td>12/02/2005</td>\n",
       "      <td>6 605</td>\n",
       "      <td>0,51 €</td>\n",
       "    </tr>\n",
       "  </tbody>\n",
       "</table>\n",
       "</div>"
      ],
      "text/plain": [
       "   campaignID        date lettersSent CostUnit\n",
       "0         153  13/12/2004       6 873   0,17 €\n",
       "1         154  01/01/2005       7 656   0,30 €\n",
       "2         180  18/01/2005       9 933   0,20 €\n",
       "3         433  29/01/2005       7 448   0,59 €\n",
       "4         476  12/02/2005       6 605   0,51 €"
      ]
     },
     "execution_count": 435,
     "metadata": {},
     "output_type": "execute_result"
    }
   ],
   "source": [
    "campaign = pd.read_csv(\"C:/Users/HP PC/Desktop/IESEG_Classes/Descriptive and predictive Analytics/Group_Project/Donnors/campaigns.csv\",sep=\";\")\n",
    "campaign.head()"
   ]
  },
  {
   "cell_type": "code",
   "execution_count": 436,
   "id": "77c52247",
   "metadata": {},
   "outputs": [
    {
     "data": {
      "text/plain": [
       "campaignID     0\n",
       "date           0\n",
       "lettersSent    0\n",
       "CostUnit       0\n",
       "dtype: int64"
      ]
     },
     "execution_count": 436,
     "metadata": {},
     "output_type": "execute_result"
    }
   ],
   "source": [
    "campaign.isna().sum()"
   ]
  },
  {
   "cell_type": "code",
   "execution_count": 437,
   "id": "5e6dcecb",
   "metadata": {},
   "outputs": [
    {
     "name": "stdout",
     "output_type": "stream",
     "text": [
      "<class 'pandas.core.frame.DataFrame'>\n",
      "RangeIndex: 367 entries, 0 to 366\n",
      "Data columns (total 4 columns):\n",
      " #   Column       Non-Null Count  Dtype \n",
      "---  ------       --------------  ----- \n",
      " 0   campaignID   367 non-null    int64 \n",
      " 1   date         367 non-null    object\n",
      " 2   lettersSent  367 non-null    object\n",
      " 3   CostUnit     367 non-null    object\n",
      "dtypes: int64(1), object(3)\n",
      "memory usage: 11.6+ KB\n"
     ]
    }
   ],
   "source": [
    "campaign.info()"
   ]
  },
  {
   "cell_type": "markdown",
   "id": "702219e2",
   "metadata": {},
   "source": [
    "There are no missing values but we need to change datatypes of variables\n",
    "1) Convert the date column to date type\n",
    "2) Convert the lettersSent column to int type\n",
    "3) Convert the CostUnit to float type"
   ]
  },
  {
   "cell_type": "code",
   "execution_count": 438,
   "id": "33697131",
   "metadata": {},
   "outputs": [],
   "source": [
    "# Converting the date column to the datetime format\n",
    "campaign['CampaignDate'] = pd.to_datetime(campaign['date'])\n",
    "\n",
    "# Converting the lettersSent column to int type\n",
    "campaign['lettersSent'] = campaign['lettersSent'].str.replace('\\u202f', '').astype(int)\n",
    "\n",
    "# Extracting the number from the CostUnit column and then converting to float\n",
    "campaign['CostUnitEuro'] = campaign.CostUnit.str.extract('(\\d+\\,\\d+)')\n",
    "campaign['CostUnitEuro'] = campaign['CostUnitEuro'].str.replace(',', '.').astype(float)\n"
   ]
  },
  {
   "cell_type": "code",
   "execution_count": 439,
   "id": "1976744b",
   "metadata": {},
   "outputs": [
    {
     "data": {
      "text/html": [
       "<div>\n",
       "<style scoped>\n",
       "    .dataframe tbody tr th:only-of-type {\n",
       "        vertical-align: middle;\n",
       "    }\n",
       "\n",
       "    .dataframe tbody tr th {\n",
       "        vertical-align: top;\n",
       "    }\n",
       "\n",
       "    .dataframe thead th {\n",
       "        text-align: right;\n",
       "    }\n",
       "</style>\n",
       "<table border=\"1\" class=\"dataframe\">\n",
       "  <thead>\n",
       "    <tr style=\"text-align: right;\">\n",
       "      <th></th>\n",
       "      <th>campaignID</th>\n",
       "      <th>date</th>\n",
       "      <th>lettersSent</th>\n",
       "      <th>CostUnit</th>\n",
       "      <th>CampaignDate</th>\n",
       "      <th>CostUnitEuro</th>\n",
       "    </tr>\n",
       "  </thead>\n",
       "  <tbody>\n",
       "    <tr>\n",
       "      <th>0</th>\n",
       "      <td>153</td>\n",
       "      <td>13/12/2004</td>\n",
       "      <td>6873</td>\n",
       "      <td>0,17 €</td>\n",
       "      <td>2004-12-13</td>\n",
       "      <td>0.17</td>\n",
       "    </tr>\n",
       "    <tr>\n",
       "      <th>1</th>\n",
       "      <td>154</td>\n",
       "      <td>01/01/2005</td>\n",
       "      <td>7656</td>\n",
       "      <td>0,30 €</td>\n",
       "      <td>2005-01-01</td>\n",
       "      <td>0.30</td>\n",
       "    </tr>\n",
       "    <tr>\n",
       "      <th>2</th>\n",
       "      <td>180</td>\n",
       "      <td>18/01/2005</td>\n",
       "      <td>9933</td>\n",
       "      <td>0,20 €</td>\n",
       "      <td>2005-01-18</td>\n",
       "      <td>0.20</td>\n",
       "    </tr>\n",
       "    <tr>\n",
       "      <th>3</th>\n",
       "      <td>433</td>\n",
       "      <td>29/01/2005</td>\n",
       "      <td>7448</td>\n",
       "      <td>0,59 €</td>\n",
       "      <td>2005-01-29</td>\n",
       "      <td>0.59</td>\n",
       "    </tr>\n",
       "    <tr>\n",
       "      <th>4</th>\n",
       "      <td>476</td>\n",
       "      <td>12/02/2005</td>\n",
       "      <td>6605</td>\n",
       "      <td>0,51 €</td>\n",
       "      <td>2005-12-02</td>\n",
       "      <td>0.51</td>\n",
       "    </tr>\n",
       "  </tbody>\n",
       "</table>\n",
       "</div>"
      ],
      "text/plain": [
       "   campaignID        date  lettersSent CostUnit CampaignDate  CostUnitEuro\n",
       "0         153  13/12/2004         6873   0,17 €   2004-12-13          0.17\n",
       "1         154  01/01/2005         7656   0,30 €   2005-01-01          0.30\n",
       "2         180  18/01/2005         9933   0,20 €   2005-01-18          0.20\n",
       "3         433  29/01/2005         7448   0,59 €   2005-01-29          0.59\n",
       "4         476  12/02/2005         6605   0,51 €   2005-12-02          0.51"
      ]
     },
     "execution_count": 439,
     "metadata": {},
     "output_type": "execute_result"
    }
   ],
   "source": [
    "campaign.head()"
   ]
  },
  {
   "cell_type": "code",
   "execution_count": null,
   "id": "c4c5e30e",
   "metadata": {},
   "outputs": [],
   "source": []
  },
  {
   "cell_type": "code",
   "execution_count": 440,
   "id": "8f49b28f",
   "metadata": {},
   "outputs": [
    {
     "data": {
      "text/html": [
       "<div>\n",
       "<style scoped>\n",
       "    .dataframe tbody tr th:only-of-type {\n",
       "        vertical-align: middle;\n",
       "    }\n",
       "\n",
       "    .dataframe tbody tr th {\n",
       "        vertical-align: top;\n",
       "    }\n",
       "\n",
       "    .dataframe thead th {\n",
       "        text-align: right;\n",
       "    }\n",
       "</style>\n",
       "<table border=\"1\" class=\"dataframe\">\n",
       "  <thead>\n",
       "    <tr style=\"text-align: right;\">\n",
       "      <th></th>\n",
       "      <th>campaignID</th>\n",
       "      <th>lettersSent</th>\n",
       "      <th>CampaignDate</th>\n",
       "      <th>CostUnitEuro</th>\n",
       "    </tr>\n",
       "  </thead>\n",
       "  <tbody>\n",
       "    <tr>\n",
       "      <th>0</th>\n",
       "      <td>153</td>\n",
       "      <td>6873</td>\n",
       "      <td>2004-12-13</td>\n",
       "      <td>0.17</td>\n",
       "    </tr>\n",
       "    <tr>\n",
       "      <th>1</th>\n",
       "      <td>154</td>\n",
       "      <td>7656</td>\n",
       "      <td>2005-01-01</td>\n",
       "      <td>0.30</td>\n",
       "    </tr>\n",
       "    <tr>\n",
       "      <th>2</th>\n",
       "      <td>180</td>\n",
       "      <td>9933</td>\n",
       "      <td>2005-01-18</td>\n",
       "      <td>0.20</td>\n",
       "    </tr>\n",
       "    <tr>\n",
       "      <th>3</th>\n",
       "      <td>433</td>\n",
       "      <td>7448</td>\n",
       "      <td>2005-01-29</td>\n",
       "      <td>0.59</td>\n",
       "    </tr>\n",
       "    <tr>\n",
       "      <th>4</th>\n",
       "      <td>476</td>\n",
       "      <td>6605</td>\n",
       "      <td>2005-12-02</td>\n",
       "      <td>0.51</td>\n",
       "    </tr>\n",
       "  </tbody>\n",
       "</table>\n",
       "</div>"
      ],
      "text/plain": [
       "   campaignID  lettersSent CampaignDate  CostUnitEuro\n",
       "0         153         6873   2004-12-13          0.17\n",
       "1         154         7656   2005-01-01          0.30\n",
       "2         180         9933   2005-01-18          0.20\n",
       "3         433         7448   2005-01-29          0.59\n",
       "4         476         6605   2005-12-02          0.51"
      ]
     },
     "execution_count": 440,
     "metadata": {},
     "output_type": "execute_result"
    }
   ],
   "source": [
    "#dropping costunit column as we have created new column as CostUnitEuro and same with date column as well\n",
    "campaign.drop('CostUnit', axis=1, inplace=True)\n",
    "campaign = campaign.drop(columns=['date'])\n",
    "campaign.head()"
   ]
  },
  {
   "cell_type": "code",
   "execution_count": 441,
   "id": "7ff6bcfa",
   "metadata": {},
   "outputs": [],
   "source": [
    "#extract Campaign year month and day from Campaigndate\n",
    "campaign['camp_year'] = pd.DatetimeIndex(campaign['CampaignDate']).year\n",
    "campaign['camp_month'] = pd.DatetimeIndex(campaign['CampaignDate']).month\n",
    "campaign['camp_day'] = pd.DatetimeIndex(campaign['CampaignDate']).day"
   ]
  },
  {
   "cell_type": "code",
   "execution_count": 442,
   "id": "c414703a",
   "metadata": {},
   "outputs": [
    {
     "data": {
      "text/html": [
       "<div>\n",
       "<style scoped>\n",
       "    .dataframe tbody tr th:only-of-type {\n",
       "        vertical-align: middle;\n",
       "    }\n",
       "\n",
       "    .dataframe tbody tr th {\n",
       "        vertical-align: top;\n",
       "    }\n",
       "\n",
       "    .dataframe thead th {\n",
       "        text-align: right;\n",
       "    }\n",
       "</style>\n",
       "<table border=\"1\" class=\"dataframe\">\n",
       "  <thead>\n",
       "    <tr style=\"text-align: right;\">\n",
       "      <th></th>\n",
       "      <th>campaignID</th>\n",
       "      <th>lettersSent</th>\n",
       "      <th>CampaignDate</th>\n",
       "      <th>CostUnitEuro</th>\n",
       "      <th>camp_year</th>\n",
       "      <th>camp_month</th>\n",
       "      <th>camp_day</th>\n",
       "    </tr>\n",
       "  </thead>\n",
       "  <tbody>\n",
       "    <tr>\n",
       "      <th>0</th>\n",
       "      <td>153</td>\n",
       "      <td>6873</td>\n",
       "      <td>2004-12-13</td>\n",
       "      <td>0.17</td>\n",
       "      <td>2004</td>\n",
       "      <td>12</td>\n",
       "      <td>13</td>\n",
       "    </tr>\n",
       "    <tr>\n",
       "      <th>1</th>\n",
       "      <td>154</td>\n",
       "      <td>7656</td>\n",
       "      <td>2005-01-01</td>\n",
       "      <td>0.30</td>\n",
       "      <td>2005</td>\n",
       "      <td>1</td>\n",
       "      <td>1</td>\n",
       "    </tr>\n",
       "    <tr>\n",
       "      <th>2</th>\n",
       "      <td>180</td>\n",
       "      <td>9933</td>\n",
       "      <td>2005-01-18</td>\n",
       "      <td>0.20</td>\n",
       "      <td>2005</td>\n",
       "      <td>1</td>\n",
       "      <td>18</td>\n",
       "    </tr>\n",
       "    <tr>\n",
       "      <th>3</th>\n",
       "      <td>433</td>\n",
       "      <td>7448</td>\n",
       "      <td>2005-01-29</td>\n",
       "      <td>0.59</td>\n",
       "      <td>2005</td>\n",
       "      <td>1</td>\n",
       "      <td>29</td>\n",
       "    </tr>\n",
       "    <tr>\n",
       "      <th>4</th>\n",
       "      <td>476</td>\n",
       "      <td>6605</td>\n",
       "      <td>2005-12-02</td>\n",
       "      <td>0.51</td>\n",
       "      <td>2005</td>\n",
       "      <td>12</td>\n",
       "      <td>2</td>\n",
       "    </tr>\n",
       "  </tbody>\n",
       "</table>\n",
       "</div>"
      ],
      "text/plain": [
       "   campaignID  lettersSent CampaignDate  CostUnitEuro  camp_year  camp_month  \\\n",
       "0         153         6873   2004-12-13          0.17       2004          12   \n",
       "1         154         7656   2005-01-01          0.30       2005           1   \n",
       "2         180         9933   2005-01-18          0.20       2005           1   \n",
       "3         433         7448   2005-01-29          0.59       2005           1   \n",
       "4         476         6605   2005-12-02          0.51       2005          12   \n",
       "\n",
       "   camp_day  \n",
       "0        13  \n",
       "1         1  \n",
       "2        18  \n",
       "3        29  \n",
       "4         2  "
      ]
     },
     "execution_count": 442,
     "metadata": {},
     "output_type": "execute_result"
    }
   ],
   "source": [
    "campaign.head()"
   ]
  },
  {
   "cell_type": "code",
   "execution_count": null,
   "id": "f9f4a446",
   "metadata": {},
   "outputs": [],
   "source": []
  },
  {
   "cell_type": "markdown",
   "id": "d7bc179f",
   "metadata": {},
   "source": [
    "# Outliers"
   ]
  },
  {
   "cell_type": "markdown",
   "id": "107d27f4",
   "metadata": {},
   "source": [
    "# Outliers in Age"
   ]
  },
  {
   "cell_type": "code",
   "execution_count": 443,
   "id": "cee49eb4",
   "metadata": {},
   "outputs": [
    {
     "data": {
      "text/plain": [
       "Text(0.5, 0, 'age')"
      ]
     },
     "execution_count": 443,
     "metadata": {},
     "output_type": "execute_result"
    },
    {
     "data": {
      "image/png": "[encoded data removed]",
      "text/plain": [
       "<Figure size 720x216 with 1 Axes>"
      ]
     },
     "metadata": {
      "needs_background": "light"
     },
     "output_type": "display_data"
    }
   ],
   "source": [
    "# Visualizing Outliers in Campaign Dataset\n",
    "\n",
    "donor['age'].value_counts(dropna=False).sort_index(ascending = True)\n",
    "\n",
    "fig2 = pyplot.figure(figsize=(10,3))\n",
    "ax1 = fig2.add_subplot(1,2,1)\n",
    "\n",
    "ax1.boxplot(donor['age'])\n",
    "ax1.set_xlabel('age')"
   ]
  },
  {
   "cell_type": "markdown",
   "id": "d13737c6",
   "metadata": {},
   "source": [
    "Assuming that such a high age of these 2 donors (age  132 and 129) could be a typo we repalcing them with appropriate values. Replace 132 with 32 and 129 with 29"
   ]
  },
  {
   "cell_type": "code",
   "execution_count": 444,
   "id": "7214c365",
   "metadata": {},
   "outputs": [
    {
     "data": {
      "text/html": [
       "<div>\n",
       "<style scoped>\n",
       "    .dataframe tbody tr th:only-of-type {\n",
       "        vertical-align: middle;\n",
       "    }\n",
       "\n",
       "    .dataframe tbody tr th {\n",
       "        vertical-align: top;\n",
       "    }\n",
       "\n",
       "    .dataframe thead th {\n",
       "        text-align: right;\n",
       "    }\n",
       "</style>\n",
       "<table border=\"1\" class=\"dataframe\">\n",
       "  <thead>\n",
       "    <tr style=\"text-align: right;\">\n",
       "      <th></th>\n",
       "      <th>Unnamed: 0</th>\n",
       "      <th>donorID</th>\n",
       "      <th>zipcode</th>\n",
       "      <th>region</th>\n",
       "      <th>dateOfBirth</th>\n",
       "      <th>Gender_M</th>\n",
       "      <th>Gender_F</th>\n",
       "      <th>Gender_Missing</th>\n",
       "      <th>EN</th>\n",
       "      <th>FR</th>\n",
       "      <th>...</th>\n",
       "      <th>Walloon Brabant</th>\n",
       "      <th>West Flanders</th>\n",
       "      <th>East Flanders</th>\n",
       "      <th>Liege</th>\n",
       "      <th>Luxembourg</th>\n",
       "      <th>Namur</th>\n",
       "      <th>Hainaut</th>\n",
       "      <th>Limburg</th>\n",
       "      <th>ANTWERP</th>\n",
       "      <th>Missing</th>\n",
       "    </tr>\n",
       "  </thead>\n",
       "  <tbody>\n",
       "    <tr>\n",
       "      <th>27008</th>\n",
       "      <td>27008</td>\n",
       "      <td>127009</td>\n",
       "      <td>9000</td>\n",
       "      <td>Flanders</td>\n",
       "      <td>1889-06-14</td>\n",
       "      <td>1</td>\n",
       "      <td>0</td>\n",
       "      <td>0</td>\n",
       "      <td>0</td>\n",
       "      <td>0</td>\n",
       "      <td>...</td>\n",
       "      <td>1</td>\n",
       "      <td>0</td>\n",
       "      <td>0</td>\n",
       "      <td>0</td>\n",
       "      <td>0</td>\n",
       "      <td>0</td>\n",
       "      <td>0</td>\n",
       "      <td>0</td>\n",
       "      <td>0</td>\n",
       "      <td>0</td>\n",
       "    </tr>\n",
       "    <tr>\n",
       "      <th>27453</th>\n",
       "      <td>27453</td>\n",
       "      <td>127454</td>\n",
       "      <td>8820</td>\n",
       "      <td>Flanders</td>\n",
       "      <td>1892-08-06</td>\n",
       "      <td>1</td>\n",
       "      <td>0</td>\n",
       "      <td>0</td>\n",
       "      <td>0</td>\n",
       "      <td>0</td>\n",
       "      <td>...</td>\n",
       "      <td>0</td>\n",
       "      <td>0</td>\n",
       "      <td>0</td>\n",
       "      <td>0</td>\n",
       "      <td>0</td>\n",
       "      <td>0</td>\n",
       "      <td>0</td>\n",
       "      <td>0</td>\n",
       "      <td>0</td>\n",
       "      <td>1</td>\n",
       "    </tr>\n",
       "  </tbody>\n",
       "</table>\n",
       "<p>2 rows × 28 columns</p>\n",
       "</div>"
      ],
      "text/plain": [
       "       Unnamed: 0  donorID  zipcode    region dateOfBirth  Gender_M  Gender_F  \\\n",
       "27008       27008   127009     9000  Flanders  1889-06-14         1         0   \n",
       "27453       27453   127454     8820  Flanders  1892-08-06         1         0   \n",
       "\n",
       "       Gender_Missing  EN  FR  ...  Walloon Brabant  West Flanders  \\\n",
       "27008               0   0   0  ...                1              0   \n",
       "27453               0   0   0  ...                0              0   \n",
       "\n",
       "       East Flanders  Liege  Luxembourg  Namur  Hainaut  Limburg  ANTWERP  \\\n",
       "27008              0      0           0      0        0        0        0   \n",
       "27453              0      0           0      0        0        0        0   \n",
       "\n",
       "       Missing  \n",
       "27008        0  \n",
       "27453        1  \n",
       "\n",
       "[2 rows x 28 columns]"
      ]
     },
     "execution_count": 444,
     "metadata": {},
     "output_type": "execute_result"
    }
   ],
   "source": [
    "# Checking the donors whose age is 132 and 129\n",
    "donor[(donor['age'] > 120)]"
   ]
  },
  {
   "cell_type": "code",
   "execution_count": 445,
   "id": "c43737c3",
   "metadata": {},
   "outputs": [],
   "source": [
    "#Replace the donor age 131 & 128 with rectified values\n",
    "gift_camp_don['age']=gift_camp_don['age'].replace([132],32)\n",
    "gift_camp_don['age']=gift_camp_don['age'].replace([129],29)"
   ]
  },
  {
   "cell_type": "markdown",
   "id": "4f061686",
   "metadata": {},
   "source": [
    "# Outliers in Gift amount"
   ]
  },
  {
   "cell_type": "code",
   "execution_count": 446,
   "id": "cec1d057",
   "metadata": {},
   "outputs": [
    {
     "data": {
      "text/plain": [
       "Text(0.5, 0, 'amount')"
      ]
     },
     "execution_count": 446,
     "metadata": {},
     "output_type": "execute_result"
    },
    {
     "data": {
      "image/png": "[encoded data removed]",
      "text/plain": [
       "<Figure size 720x216 with 1 Axes>"
      ]
     },
     "metadata": {
      "needs_background": "light"
     },
     "output_type": "display_data"
    }
   ],
   "source": [
    "# Visualizing Outliers in Campaign Dataset\n",
    "\n",
    "gift['amount'].value_counts(dropna=False).sort_index(ascending = True)\n",
    "\n",
    "fig2 = pyplot.figure(figsize=(10,3))\n",
    "ax1 = fig2.add_subplot(1,2,1)\n",
    "\n",
    "ax1.boxplot(gift['amount'])\n",
    "ax1.set_xlabel('amount')"
   ]
  },
  {
   "cell_type": "code",
   "execution_count": 447,
   "id": "0f175343",
   "metadata": {},
   "outputs": [],
   "source": [
    "gift_test = gift.sort_values('amount')"
   ]
  },
  {
   "cell_type": "code",
   "execution_count": 448,
   "id": "2cc03036",
   "metadata": {},
   "outputs": [
    {
     "data": {
      "text/html": [
       "<div>\n",
       "<style scoped>\n",
       "    .dataframe tbody tr th:only-of-type {\n",
       "        vertical-align: middle;\n",
       "    }\n",
       "\n",
       "    .dataframe tbody tr th {\n",
       "        vertical-align: top;\n",
       "    }\n",
       "\n",
       "    .dataframe thead th {\n",
       "        text-align: right;\n",
       "    }\n",
       "</style>\n",
       "<table border=\"1\" class=\"dataframe\">\n",
       "  <thead>\n",
       "    <tr style=\"text-align: right;\">\n",
       "      <th></th>\n",
       "      <th>Unnamed: 0</th>\n",
       "      <th>donorID</th>\n",
       "      <th>campaignID</th>\n",
       "      <th>amount</th>\n",
       "      <th>date</th>\n",
       "      <th>gift_year</th>\n",
       "      <th>gift_month</th>\n",
       "      <th>gift_day</th>\n",
       "      <th>Number_Of_Donation</th>\n",
       "      <th>Donation_Per_Year</th>\n",
       "    </tr>\n",
       "  </thead>\n",
       "  <tbody>\n",
       "    <tr>\n",
       "      <th>152747</th>\n",
       "      <td>152747</td>\n",
       "      <td>123109</td>\n",
       "      <td>2090</td>\n",
       "      <td>1.000000e+00</td>\n",
       "      <td>2009-05-18</td>\n",
       "      <td>2009</td>\n",
       "      <td>5</td>\n",
       "      <td>18</td>\n",
       "      <td>32</td>\n",
       "      <td>3.555556</td>\n",
       "    </tr>\n",
       "    <tr>\n",
       "      <th>210571</th>\n",
       "      <td>210571</td>\n",
       "      <td>141801</td>\n",
       "      <td>4144</td>\n",
       "      <td>2.000000e+00</td>\n",
       "      <td>2015-06-11</td>\n",
       "      <td>2015</td>\n",
       "      <td>6</td>\n",
       "      <td>11</td>\n",
       "      <td>19</td>\n",
       "      <td>1.583333</td>\n",
       "    </tr>\n",
       "    <tr>\n",
       "      <th>159456</th>\n",
       "      <td>159456</td>\n",
       "      <td>124744</td>\n",
       "      <td>5016</td>\n",
       "      <td>2.000000e+00</td>\n",
       "      <td>2017-10-31</td>\n",
       "      <td>2017</td>\n",
       "      <td>10</td>\n",
       "      <td>31</td>\n",
       "      <td>32</td>\n",
       "      <td>2.909091</td>\n",
       "    </tr>\n",
       "    <tr>\n",
       "      <th>190423</th>\n",
       "      <td>190423</td>\n",
       "      <td>133209</td>\n",
       "      <td>3815</td>\n",
       "      <td>3.000000e+00</td>\n",
       "      <td>2014-09-23</td>\n",
       "      <td>2014</td>\n",
       "      <td>9</td>\n",
       "      <td>23</td>\n",
       "      <td>14</td>\n",
       "      <td>2.000000</td>\n",
       "    </tr>\n",
       "    <tr>\n",
       "      <th>89756</th>\n",
       "      <td>89756</td>\n",
       "      <td>111010</td>\n",
       "      <td>2415</td>\n",
       "      <td>3.000000e+00</td>\n",
       "      <td>2010-06-10</td>\n",
       "      <td>2010</td>\n",
       "      <td>6</td>\n",
       "      <td>10</td>\n",
       "      <td>4</td>\n",
       "      <td>2.000000</td>\n",
       "    </tr>\n",
       "    <tr>\n",
       "      <th>...</th>\n",
       "      <td>...</td>\n",
       "      <td>...</td>\n",
       "      <td>...</td>\n",
       "      <td>...</td>\n",
       "      <td>...</td>\n",
       "      <td>...</td>\n",
       "      <td>...</td>\n",
       "      <td>...</td>\n",
       "      <td>...</td>\n",
       "      <td>...</td>\n",
       "    </tr>\n",
       "    <tr>\n",
       "      <th>56480</th>\n",
       "      <td>56480</td>\n",
       "      <td>106396</td>\n",
       "      <td>0</td>\n",
       "      <td>4.833400e+16</td>\n",
       "      <td>2001-03-20</td>\n",
       "      <td>2001</td>\n",
       "      <td>3</td>\n",
       "      <td>20</td>\n",
       "      <td>121</td>\n",
       "      <td>12.100000</td>\n",
       "    </tr>\n",
       "    <tr>\n",
       "      <th>56483</th>\n",
       "      <td>56483</td>\n",
       "      <td>106396</td>\n",
       "      <td>0</td>\n",
       "      <td>4.833400e+16</td>\n",
       "      <td>2002-05-31</td>\n",
       "      <td>2002</td>\n",
       "      <td>5</td>\n",
       "      <td>31</td>\n",
       "      <td>2</td>\n",
       "      <td>1.000000</td>\n",
       "    </tr>\n",
       "    <tr>\n",
       "      <th>124568</th>\n",
       "      <td>124568</td>\n",
       "      <td>117401</td>\n",
       "      <td>0</td>\n",
       "      <td>5.453800e+16</td>\n",
       "      <td>2006-03-25</td>\n",
       "      <td>2006</td>\n",
       "      <td>3</td>\n",
       "      <td>25</td>\n",
       "      <td>21</td>\n",
       "      <td>5.250000</td>\n",
       "    </tr>\n",
       "    <tr>\n",
       "      <th>216264</th>\n",
       "      <td>216264</td>\n",
       "      <td>144623</td>\n",
       "      <td>0</td>\n",
       "      <td>6.448000e+16</td>\n",
       "      <td>2007-06-08</td>\n",
       "      <td>2007</td>\n",
       "      <td>6</td>\n",
       "      <td>8</td>\n",
       "      <td>7</td>\n",
       "      <td>1.400000</td>\n",
       "    </tr>\n",
       "    <tr>\n",
       "      <th>172552</th>\n",
       "      <td>172552</td>\n",
       "      <td>128000</td>\n",
       "      <td>7005</td>\n",
       "      <td>6.578000e+16</td>\n",
       "      <td>2019-01-07</td>\n",
       "      <td>2019</td>\n",
       "      <td>1</td>\n",
       "      <td>7</td>\n",
       "      <td>47</td>\n",
       "      <td>5.875000</td>\n",
       "    </tr>\n",
       "  </tbody>\n",
       "</table>\n",
       "<p>216594 rows × 10 columns</p>\n",
       "</div>"
      ],
      "text/plain": [
       "        Unnamed: 0  donorID campaignID        amount       date  gift_year  \\\n",
       "152747      152747   123109       2090  1.000000e+00 2009-05-18       2009   \n",
       "210571      210571   141801       4144  2.000000e+00 2015-06-11       2015   \n",
       "159456      159456   124744       5016  2.000000e+00 2017-10-31       2017   \n",
       "190423      190423   133209       3815  3.000000e+00 2014-09-23       2014   \n",
       "89756        89756   111010       2415  3.000000e+00 2010-06-10       2010   \n",
       "...            ...      ...        ...           ...        ...        ...   \n",
       "56480        56480   106396          0  4.833400e+16 2001-03-20       2001   \n",
       "56483        56483   106396          0  4.833400e+16 2002-05-31       2002   \n",
       "124568      124568   117401          0  5.453800e+16 2006-03-25       2006   \n",
       "216264      216264   144623          0  6.448000e+16 2007-06-08       2007   \n",
       "172552      172552   128000       7005  6.578000e+16 2019-01-07       2019   \n",
       "\n",
       "        gift_month  gift_day  Number_Of_Donation  Donation_Per_Year  \n",
       "152747           5        18                  32           3.555556  \n",
       "210571           6        11                  19           1.583333  \n",
       "159456          10        31                  32           2.909091  \n",
       "190423           9        23                  14           2.000000  \n",
       "89756            6        10                   4           2.000000  \n",
       "...            ...       ...                 ...                ...  \n",
       "56480            3        20                 121          12.100000  \n",
       "56483            5        31                   2           1.000000  \n",
       "124568           3        25                  21           5.250000  \n",
       "216264           6         8                   7           1.400000  \n",
       "172552           1         7                  47           5.875000  \n",
       "\n",
       "[216594 rows x 10 columns]"
      ]
     },
     "execution_count": 448,
     "metadata": {},
     "output_type": "execute_result"
    }
   ],
   "source": [
    "gift_test"
   ]
  },
  {
   "cell_type": "code",
   "execution_count": null,
   "id": "0902072d",
   "metadata": {},
   "outputs": [],
   "source": []
  },
  {
   "cell_type": "markdown",
   "id": "c73eb6f3",
   "metadata": {},
   "source": [
    "# Joining all cleaned tables together and creating seperate tables for train set and Test set"
   ]
  },
  {
   "cell_type": "markdown",
   "id": "318c006f",
   "metadata": {},
   "source": [
    "# Generating Training Data Set by mapping the train_set(6169)"
   ]
  },
  {
   "cell_type": "code",
   "execution_count": 449,
   "id": "d2628d0d",
   "metadata": {},
   "outputs": [],
   "source": [
    "#As datatypes of CampaignID is different in each table merge is returning zero records. \n",
    "#Hence changing datatype of campaignID to Int in both tables\n",
    "gift['campaignID']= gift['campaignID'].astype(int)"
   ]
  },
  {
   "cell_type": "code",
   "execution_count": 450,
   "id": "f3fc6962",
   "metadata": {},
   "outputs": [],
   "source": [
    "#merge donor_trainset table with gift table based on donorid\n",
    "donor_trainset_gift= pd.concat([donor_trainset, gift], axis=1, join=\"inner\")"
   ]
  },
  {
   "cell_type": "code",
   "execution_count": 451,
   "id": "bbc049e6",
   "metadata": {},
   "outputs": [
    {
     "name": "stdout",
     "output_type": "stream",
     "text": [
      "<class 'pandas.core.frame.DataFrame'>\n",
      "Int64Index: 34874 entries, 0 to 34873\n",
      "Data columns (total 45 columns):\n",
      " #   Column              Non-Null Count  Dtype         \n",
      "---  ------              --------------  -----         \n",
      " 0   Unnamed: 0          34874 non-null  int64         \n",
      " 1   donorID             34874 non-null  int64         \n",
      " 2   zipcode             34874 non-null  int32         \n",
      " 3   region              34874 non-null  object        \n",
      " 4   dateOfBirth         34874 non-null  datetime64[ns]\n",
      " 5   Gender_M            34874 non-null  uint8         \n",
      " 6   Gender_F            34874 non-null  uint8         \n",
      " 7   Gender_Missing      34874 non-null  uint8         \n",
      " 8   EN                  34874 non-null  uint8         \n",
      " 9   FR                  34874 non-null  uint8         \n",
      " 10  NL                  34874 non-null  uint8         \n",
      " 11  gift_year           34874 non-null  int64         \n",
      " 12  age                 34874 non-null  int64         \n",
      " 13  age_6169            34874 non-null  int64         \n",
      " 14  age_7244            34874 non-null  int64         \n",
      " 15  Flemish Brabant     34874 non-null  uint8         \n",
      " 16  Antwerp             34874 non-null  uint8         \n",
      " 17  Brussels            34874 non-null  uint8         \n",
      " 18  Walloon Brabant     34874 non-null  uint8         \n",
      " 19  West Flanders       34874 non-null  uint8         \n",
      " 20  East Flanders       34874 non-null  uint8         \n",
      " 21  Liege               34874 non-null  uint8         \n",
      " 22  Luxembourg          34874 non-null  uint8         \n",
      " 23  Namur               34874 non-null  uint8         \n",
      " 24  Hainaut             34874 non-null  uint8         \n",
      " 25  Limburg             34874 non-null  uint8         \n",
      " 26  ANTWERP             34874 non-null  uint8         \n",
      " 27  Missing             34874 non-null  uint8         \n",
      " 28  Unnamed: 0          34874 non-null  int64         \n",
      " 29  donorID             34874 non-null  int64         \n",
      " 30  campaignID          34874 non-null  int32         \n",
      " 31  amount              34874 non-null  float64       \n",
      " 32  date                34874 non-null  datetime64[ns]\n",
      " 33  gift_year           34874 non-null  int64         \n",
      " 34  gift_month          34874 non-null  int64         \n",
      " 35  gift_day            34874 non-null  int64         \n",
      " 36  Number_Of_Donation  34874 non-null  int64         \n",
      " 37  Donation_Per_Year   34874 non-null  float64       \n",
      " 38  campaignID          367 non-null    float64       \n",
      " 39  lettersSent         367 non-null    float64       \n",
      " 40  CampaignDate        367 non-null    datetime64[ns]\n",
      " 41  CostUnitEuro        367 non-null    float64       \n",
      " 42  camp_year           367 non-null    float64       \n",
      " 43  camp_month          367 non-null    float64       \n",
      " 44  camp_day            367 non-null    float64       \n",
      "dtypes: datetime64[ns](3), float64(8), int32(2), int64(12), object(1), uint8(19)\n",
      "memory usage: 7.5+ MB\n"
     ]
    }
   ],
   "source": [
    "#create Final Train set table for campaignID 6169 by oining  with campaign table\n",
    "Final_Table_6169= pd.concat([donor_trainset_gift, campaign], axis=1, join=\"outer\")\n",
    "Final_Table_6169.info()"
   ]
  },
  {
   "cell_type": "markdown",
   "id": "822f3270",
   "metadata": {},
   "source": [
    "# Generating Training Data Set by mapping the train_set(7244)"
   ]
  },
  {
   "cell_type": "code",
   "execution_count": 452,
   "id": "b5a0f2e9",
   "metadata": {},
   "outputs": [],
   "source": [
    "#merge donor_trainset table with gift table based on donorid\n",
    "donor_testset_gift= pd.concat([donor_testset, gift], axis=1, join=\"inner\")"
   ]
  },
  {
   "cell_type": "code",
   "execution_count": 453,
   "id": "a656e9d2",
   "metadata": {},
   "outputs": [
    {
     "name": "stdout",
     "output_type": "stream",
     "text": [
      "<class 'pandas.core.frame.DataFrame'>\n",
      "Int64Index: 25645 entries, 0 to 25644\n",
      "Data columns (total 45 columns):\n",
      " #   Column              Non-Null Count  Dtype         \n",
      "---  ------              --------------  -----         \n",
      " 0   Unnamed: 0          25645 non-null  int64         \n",
      " 1   donorID             25645 non-null  int64         \n",
      " 2   zipcode             25645 non-null  int32         \n",
      " 3   region              25645 non-null  object        \n",
      " 4   dateOfBirth         25645 non-null  datetime64[ns]\n",
      " 5   Gender_M            25645 non-null  uint8         \n",
      " 6   Gender_F            25645 non-null  uint8         \n",
      " 7   Gender_Missing      25645 non-null  uint8         \n",
      " 8   EN                  25645 non-null  uint8         \n",
      " 9   FR                  25645 non-null  uint8         \n",
      " 10  NL                  25645 non-null  uint8         \n",
      " 11  gift_year           25645 non-null  int64         \n",
      " 12  age                 25645 non-null  int64         \n",
      " 13  age_6169            25645 non-null  int64         \n",
      " 14  age_7244            25645 non-null  int64         \n",
      " 15  Flemish Brabant     25645 non-null  uint8         \n",
      " 16  Antwerp             25645 non-null  uint8         \n",
      " 17  Brussels            25645 non-null  uint8         \n",
      " 18  Walloon Brabant     25645 non-null  uint8         \n",
      " 19  West Flanders       25645 non-null  uint8         \n",
      " 20  East Flanders       25645 non-null  uint8         \n",
      " 21  Liege               25645 non-null  uint8         \n",
      " 22  Luxembourg          25645 non-null  uint8         \n",
      " 23  Namur               25645 non-null  uint8         \n",
      " 24  Hainaut             25645 non-null  uint8         \n",
      " 25  Limburg             25645 non-null  uint8         \n",
      " 26  ANTWERP             25645 non-null  uint8         \n",
      " 27  Missing             25645 non-null  uint8         \n",
      " 28  Unnamed: 0          25645 non-null  int64         \n",
      " 29  donorID             25645 non-null  int64         \n",
      " 30  campaignID          25645 non-null  int32         \n",
      " 31  amount              25645 non-null  float64       \n",
      " 32  date                25645 non-null  datetime64[ns]\n",
      " 33  gift_year           25645 non-null  int64         \n",
      " 34  gift_month          25645 non-null  int64         \n",
      " 35  gift_day            25645 non-null  int64         \n",
      " 36  Number_Of_Donation  25645 non-null  int64         \n",
      " 37  Donation_Per_Year   25645 non-null  float64       \n",
      " 38  campaignID          367 non-null    float64       \n",
      " 39  lettersSent         367 non-null    float64       \n",
      " 40  CampaignDate        367 non-null    datetime64[ns]\n",
      " 41  CostUnitEuro        367 non-null    float64       \n",
      " 42  camp_year           367 non-null    float64       \n",
      " 43  camp_month          367 non-null    float64       \n",
      " 44  camp_day            367 non-null    float64       \n",
      "dtypes: datetime64[ns](3), float64(8), int32(2), int64(12), object(1), uint8(19)\n",
      "memory usage: 5.6+ MB\n"
     ]
    }
   ],
   "source": [
    "#create Final Train set table for campaignID 6169 by oining  with campaign table\n",
    "Final_Table_7244= pd.concat([donor_testset_gift, campaign], axis=1, join=\"outer\")\n",
    "Final_Table_7244.info()"
   ]
  },
  {
   "cell_type": "code",
   "execution_count": null,
   "id": "a3c7c832",
   "metadata": {},
   "outputs": [],
   "source": []
  },
  {
   "cell_type": "code",
   "execution_count": null,
   "id": "00acbd86",
   "metadata": {},
   "outputs": [],
   "source": []
  },
  {
   "cell_type": "code",
   "execution_count": null,
   "id": "2bf6fcbf",
   "metadata": {},
   "outputs": [],
   "source": []
  }
 ],
 "metadata": {
  "kernelspec": {
   "display_name": "Python 3 (ipykernel)",
   "language": "python",
   "name": "python3"
  },
  "language_info": {
   "codemirror_mode": {
    "name": "ipython",
    "version": 3
   },
   "file_extension": ".py",
   "mimetype": "text/x-python",
   "name": "python",
   "nbconvert_exporter": "python",
   "pygments_lexer": "ipython3",
   "version": "3.9.7"
  }
 },
 "nbformat": 4,
 "nbformat_minor": 5
}
